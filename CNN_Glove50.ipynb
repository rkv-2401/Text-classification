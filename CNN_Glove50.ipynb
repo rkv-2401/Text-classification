{
 "cells": [
  {
   "cell_type": "code",
   "execution_count": 1,
   "id": "4c031902",
   "metadata": {},
   "outputs": [],
   "source": [
    "#pip install contractions\n",
    "#pip install spacy-cleaner\n",
    "#pip install spacy - v 3.41"
   ]
  },
  {
   "cell_type": "code",
   "execution_count": 1,
   "id": "03871308",
   "metadata": {},
   "outputs": [],
   "source": [
    "#pip install -U wheel setuptools"
   ]
  },
  {
   "cell_type": "markdown",
   "id": "a1abf62c",
   "metadata": {},
   "source": [
    "## Start here. "
   ]
  },
  {
   "cell_type": "code",
   "execution_count": 6,
   "id": "d688452b",
   "metadata": {},
   "outputs": [],
   "source": [
    "import pandas as pd\n",
    "import matplotlib.pyplot as plt\n",
    "import seaborn as sns\n",
    "import contractions\n",
    "import spacy\n",
    "import spacy_cleaner\n",
    "from spacy_cleaner.processing import removers, replacers, mutators\n",
    "from albumentations.core.transforms_interface import DualTransform, BasicTransform"
   ]
  },
  {
   "cell_type": "code",
   "execution_count": 2,
   "id": "c9c4c41d",
   "metadata": {},
   "outputs": [],
   "source": [
    "train_df = pd.read_csv('Data/train.csv')"
   ]
  },
  {
   "cell_type": "code",
   "execution_count": 3,
   "id": "32180449",
   "metadata": {},
   "outputs": [
    {
     "data": {
      "text/html": [
       "<div>\n",
       "<style scoped>\n",
       "    .dataframe tbody tr th:only-of-type {\n",
       "        vertical-align: middle;\n",
       "    }\n",
       "\n",
       "    .dataframe tbody tr th {\n",
       "        vertical-align: top;\n",
       "    }\n",
       "\n",
       "    .dataframe thead th {\n",
       "        text-align: right;\n",
       "    }\n",
       "</style>\n",
       "<table border=\"1\" class=\"dataframe\">\n",
       "  <thead>\n",
       "    <tr style=\"text-align: right;\">\n",
       "      <th></th>\n",
       "      <th>text_id</th>\n",
       "      <th>full_text</th>\n",
       "      <th>cohesion</th>\n",
       "      <th>syntax</th>\n",
       "      <th>vocabulary</th>\n",
       "      <th>phraseology</th>\n",
       "      <th>grammar</th>\n",
       "      <th>conventions</th>\n",
       "    </tr>\n",
       "  </thead>\n",
       "  <tbody>\n",
       "    <tr>\n",
       "      <th>0</th>\n",
       "      <td>0016926B079C</td>\n",
       "      <td>I think that students would benefit from learn...</td>\n",
       "      <td>3.5</td>\n",
       "      <td>3.5</td>\n",
       "      <td>3.0</td>\n",
       "      <td>3.0</td>\n",
       "      <td>4.0</td>\n",
       "      <td>3.0</td>\n",
       "    </tr>\n",
       "    <tr>\n",
       "      <th>1</th>\n",
       "      <td>0022683E9EA5</td>\n",
       "      <td>When a problem is a change you have to let it ...</td>\n",
       "      <td>2.5</td>\n",
       "      <td>2.5</td>\n",
       "      <td>3.0</td>\n",
       "      <td>2.0</td>\n",
       "      <td>2.0</td>\n",
       "      <td>2.5</td>\n",
       "    </tr>\n",
       "    <tr>\n",
       "      <th>2</th>\n",
       "      <td>00299B378633</td>\n",
       "      <td>Dear, Principal\\n\\nIf u change the school poli...</td>\n",
       "      <td>3.0</td>\n",
       "      <td>3.5</td>\n",
       "      <td>3.0</td>\n",
       "      <td>3.0</td>\n",
       "      <td>3.0</td>\n",
       "      <td>2.5</td>\n",
       "    </tr>\n",
       "    <tr>\n",
       "      <th>3</th>\n",
       "      <td>003885A45F42</td>\n",
       "      <td>The best time in life is when you become yours...</td>\n",
       "      <td>4.5</td>\n",
       "      <td>4.5</td>\n",
       "      <td>4.5</td>\n",
       "      <td>4.5</td>\n",
       "      <td>4.0</td>\n",
       "      <td>5.0</td>\n",
       "    </tr>\n",
       "    <tr>\n",
       "      <th>4</th>\n",
       "      <td>0049B1DF5CCC</td>\n",
       "      <td>Small act of kindness can impact in other peop...</td>\n",
       "      <td>2.5</td>\n",
       "      <td>3.0</td>\n",
       "      <td>3.0</td>\n",
       "      <td>3.0</td>\n",
       "      <td>2.5</td>\n",
       "      <td>2.5</td>\n",
       "    </tr>\n",
       "  </tbody>\n",
       "</table>\n",
       "</div>"
      ],
      "text/plain": [
       "        text_id                                          full_text  cohesion  \\\n",
       "0  0016926B079C  I think that students would benefit from learn...       3.5   \n",
       "1  0022683E9EA5  When a problem is a change you have to let it ...       2.5   \n",
       "2  00299B378633  Dear, Principal\\n\\nIf u change the school poli...       3.0   \n",
       "3  003885A45F42  The best time in life is when you become yours...       4.5   \n",
       "4  0049B1DF5CCC  Small act of kindness can impact in other peop...       2.5   \n",
       "\n",
       "   syntax  vocabulary  phraseology  grammar  conventions  \n",
       "0     3.5         3.0          3.0      4.0          3.0  \n",
       "1     2.5         3.0          2.0      2.0          2.5  \n",
       "2     3.5         3.0          3.0      3.0          2.5  \n",
       "3     4.5         4.5          4.5      4.0          5.0  \n",
       "4     3.0         3.0          3.0      2.5          2.5  "
      ]
     },
     "execution_count": 3,
     "metadata": {},
     "output_type": "execute_result"
    }
   ],
   "source": [
    "train_df.head()"
   ]
  },
  {
   "cell_type": "code",
   "execution_count": 4,
   "id": "1263ca70",
   "metadata": {},
   "outputs": [],
   "source": [
    "proc_text = [contractions.fix(text) for text in train_df['full_text']]\n",
    "# Very fast! Measure time later\n",
    "def more_processing(text):\n",
    "    text = text.lower()\n",
    "    return text\n",
    "\n",
    "proc_text_2 = [more_processing(text) for text in proc_text]"
   ]
  },
  {
   "cell_type": "code",
   "execution_count": 5,
   "id": "99b0159f",
   "metadata": {},
   "outputs": [
    {
     "name": "stderr",
     "output_type": "stream",
     "text": [
      "/home/rkv/miniconda3/envs/tf/lib/python3.9/site-packages/spacy/language.py:1895: UserWarning: [W123] Argument disable with value ['senter', 'parser', 'ner'] is used instead of ['senter'] as specified in the config. Be aware that this might affect other components in your pipeline.\n",
      "  warnings.warn(\n"
     ]
    },
    {
     "name": "stdout",
     "output_type": "stream",
     "text": [
      "['tok2vec', 'tagger', 'attribute_ruler', 'lemmatizer']\n"
     ]
    }
   ],
   "source": [
    "nlp = spacy.load(\"en_core_web_md\", disable=['senter', 'parser', 'ner'])\n",
    "#nlp.enable(\"senter\")\n",
    "print(nlp.pipe_names)\n",
    "\n",
    "pipeline = spacy_cleaner.Pipeline(\n",
    "    nlp,\n",
    "    removers.remove_stopword_token,\n",
    "    removers.remove_punctuation_token,\n",
    "    replacers.replace_number_token,\n",
    "    mutators.mutate_lemma_token,\n",
    ")"
   ]
  },
  {
   "cell_type": "code",
   "execution_count": 6,
   "id": "9f832bd8",
   "metadata": {},
   "outputs": [
    {
     "name": "stderr",
     "output_type": "stream",
     "text": [
      "Cleaning Progress: 100%|███████████████████████████████████████████████████████████| 3911/3911 [00:31<00:00, 124.55it/s]\n"
     ]
    }
   ],
   "source": [
    "# Remember to switch n_process to 4 when running on Kaggle.\n",
    "\n",
    "proc_text_3 = pipeline.clean(proc_text_2, n_process = 8, batch_size = 12)\n",
    "# n_process = 4, batch size 12 - 105 it/s : 00:37\n",
    "\n",
    "# n_process = 8, default batch size - takes forever to initialize\n",
    "# n_process = 8, batch size 12 - 141 it/s : 00:27\n",
    "# n_process = 8, batch size 48 - 130 it/s : 00:29\n",
    "\n",
    "# n_process = 12, default batch size - takes forever to initialize\n",
    "# n_process = 12, batch size 12 - 120.3 it/s : 00:29\n",
    "# n_process = 12, batch size 48 - 89.5 it/s : 00:34\n"
   ]
  },
  {
   "cell_type": "code",
   "execution_count": 4,
   "id": "4a025103",
   "metadata": {
    "scrolled": true
   },
   "outputs": [],
   "source": [
    "# Contractions mapped, lemmatized, stopwords and punctuations removed, numbers replaced.\n",
    "proc_text_3[1]"
   ]
  },
  {
   "cell_type": "code",
   "execution_count": 8,
   "id": "ad05c031",
   "metadata": {},
   "outputs": [],
   "source": [
    "# Also added start of seq and end of seq, lowercase\n",
    "train_df['cleaned_text'] = proc_text_3"
   ]
  },
  {
   "cell_type": "code",
   "execution_count": 9,
   "id": "23170cfc",
   "metadata": {},
   "outputs": [],
   "source": [
    "train_df.head()\n",
    "train_df.to_csv('processed_data_sostok.csv')"
   ]
  },
  {
   "cell_type": "markdown",
   "id": "34fc5475",
   "metadata": {},
   "source": [
    "## Load this"
   ]
  },
  {
   "cell_type": "code",
   "execution_count": 7,
   "id": "24e37674",
   "metadata": {},
   "outputs": [],
   "source": [
    "train_df = pd.read_csv('processed_data_sostok.csv')"
   ]
  },
  {
   "cell_type": "code",
   "execution_count": 8,
   "id": "b61ed966",
   "metadata": {
    "scrolled": true
   },
   "outputs": [
    {
     "data": {
      "text/html": [
       "<div>\n",
       "<style scoped>\n",
       "    .dataframe tbody tr th:only-of-type {\n",
       "        vertical-align: middle;\n",
       "    }\n",
       "\n",
       "    .dataframe tbody tr th {\n",
       "        vertical-align: top;\n",
       "    }\n",
       "\n",
       "    .dataframe thead th {\n",
       "        text-align: right;\n",
       "    }\n",
       "</style>\n",
       "<table border=\"1\" class=\"dataframe\">\n",
       "  <thead>\n",
       "    <tr style=\"text-align: right;\">\n",
       "      <th></th>\n",
       "      <th>Unnamed: 0</th>\n",
       "      <th>text_id</th>\n",
       "      <th>full_text</th>\n",
       "      <th>cohesion</th>\n",
       "      <th>syntax</th>\n",
       "      <th>vocabulary</th>\n",
       "      <th>phraseology</th>\n",
       "      <th>grammar</th>\n",
       "      <th>conventions</th>\n",
       "      <th>cleaned_text</th>\n",
       "    </tr>\n",
       "  </thead>\n",
       "  <tbody>\n",
       "    <tr>\n",
       "      <th>0</th>\n",
       "      <td>0</td>\n",
       "      <td>0016926B079C</td>\n",
       "      <td>I think that students would benefit from learn...</td>\n",
       "      <td>3.5</td>\n",
       "      <td>3.5</td>\n",
       "      <td>3.0</td>\n",
       "      <td>3.0</td>\n",
       "      <td>4.0</td>\n",
       "      <td>3.0</td>\n",
       "      <td>&lt; sostok &gt; think student benefit learn home ch...</td>\n",
       "    </tr>\n",
       "    <tr>\n",
       "      <th>1</th>\n",
       "      <td>1</td>\n",
       "      <td>0022683E9EA5</td>\n",
       "      <td>When a problem is a change you have to let it ...</td>\n",
       "      <td>2.5</td>\n",
       "      <td>2.5</td>\n",
       "      <td>3.0</td>\n",
       "      <td>2.0</td>\n",
       "      <td>2.0</td>\n",
       "      <td>2.5</td>\n",
       "      <td>&lt; sostok &gt; problem change let good matter happ...</td>\n",
       "    </tr>\n",
       "    <tr>\n",
       "      <th>2</th>\n",
       "      <td>2</td>\n",
       "      <td>00299B378633</td>\n",
       "      <td>Dear, Principal\\n\\nIf u change the school poli...</td>\n",
       "      <td>3.0</td>\n",
       "      <td>3.5</td>\n",
       "      <td>3.0</td>\n",
       "      <td>3.0</td>\n",
       "      <td>3.0</td>\n",
       "      <td>2.5</td>\n",
       "      <td>&lt; sostok &gt; dear principal change school policy...</td>\n",
       "    </tr>\n",
       "    <tr>\n",
       "      <th>3</th>\n",
       "      <td>3</td>\n",
       "      <td>003885A45F42</td>\n",
       "      <td>The best time in life is when you become yours...</td>\n",
       "      <td>4.5</td>\n",
       "      <td>4.5</td>\n",
       "      <td>4.5</td>\n",
       "      <td>4.5</td>\n",
       "      <td>4.0</td>\n",
       "      <td>5.0</td>\n",
       "      <td>&lt; sostok &gt; good time life agree great accompli...</td>\n",
       "    </tr>\n",
       "    <tr>\n",
       "      <th>4</th>\n",
       "      <td>4</td>\n",
       "      <td>0049B1DF5CCC</td>\n",
       "      <td>Small act of kindness can impact in other peop...</td>\n",
       "      <td>2.5</td>\n",
       "      <td>3.0</td>\n",
       "      <td>3.0</td>\n",
       "      <td>3.0</td>\n",
       "      <td>2.5</td>\n",
       "      <td>2.5</td>\n",
       "      <td>&lt; sostok &gt; small act kindness impact people ch...</td>\n",
       "    </tr>\n",
       "  </tbody>\n",
       "</table>\n",
       "</div>"
      ],
      "text/plain": [
       "   Unnamed: 0       text_id  \\\n",
       "0           0  0016926B079C   \n",
       "1           1  0022683E9EA5   \n",
       "2           2  00299B378633   \n",
       "3           3  003885A45F42   \n",
       "4           4  0049B1DF5CCC   \n",
       "\n",
       "                                           full_text  cohesion  syntax  \\\n",
       "0  I think that students would benefit from learn...       3.5     3.5   \n",
       "1  When a problem is a change you have to let it ...       2.5     2.5   \n",
       "2  Dear, Principal\\n\\nIf u change the school poli...       3.0     3.5   \n",
       "3  The best time in life is when you become yours...       4.5     4.5   \n",
       "4  Small act of kindness can impact in other peop...       2.5     3.0   \n",
       "\n",
       "   vocabulary  phraseology  grammar  conventions  \\\n",
       "0         3.0          3.0      4.0          3.0   \n",
       "1         3.0          2.0      2.0          2.5   \n",
       "2         3.0          3.0      3.0          2.5   \n",
       "3         4.5          4.5      4.0          5.0   \n",
       "4         3.0          3.0      2.5          2.5   \n",
       "\n",
       "                                        cleaned_text  \n",
       "0  < sostok > think student benefit learn home ch...  \n",
       "1  < sostok > problem change let good matter happ...  \n",
       "2  < sostok > dear principal change school policy...  \n",
       "3  < sostok > good time life agree great accompli...  \n",
       "4  < sostok > small act kindness impact people ch...  "
      ]
     },
     "execution_count": 8,
     "metadata": {},
     "output_type": "execute_result"
    }
   ],
   "source": [
    "train_df.head()"
   ]
  },
  {
   "cell_type": "code",
   "execution_count": 9,
   "id": "6d0b2ec5",
   "metadata": {},
   "outputs": [],
   "source": [
    "import random\n",
    "from albumentations.core.transforms_interface import DualTransform, BasicTransform\n",
    "from nltk import sent_tokenize\n",
    "class NLPTransform(BasicTransform):\n",
    "    \"\"\" Transform for nlp task.\"\"\"\n",
    "    LANGS = {\n",
    "        'en': 'english',\n",
    "        'it': 'italian', \n",
    "        'fr': 'french', \n",
    "        'es': 'spanish',\n",
    "        'tr': 'turkish', \n",
    "        'ru': 'russian',\n",
    "        'pt': 'portuguese'\n",
    "    }\n",
    "\n",
    "    @property\n",
    "    def targets(self):\n",
    "        return {\"data\": self.apply}\n",
    "    \n",
    "    def update_params(self, params, **kwargs):\n",
    "        if hasattr(self, \"interpolation\"):\n",
    "            params[\"interpolation\"] = self.interpolation\n",
    "        if hasattr(self, \"fill_value\"):\n",
    "            params[\"fill_value\"] = self.fill_value\n",
    "        return params\n",
    "\n",
    "    def get_sentences(self, text, lang='en'):\n",
    "        return sent_tokenize(text, self.LANGS.get(lang, 'english'))"
   ]
  },
  {
   "cell_type": "code",
   "execution_count": 10,
   "id": "9ac206e5",
   "metadata": {},
   "outputs": [],
   "source": [
    "#trying basic data augmentation: \n",
    "class ShuffleSentencesTransform(NLPTransform):\n",
    "    \"\"\" Do shuffle by sentence \"\"\"\n",
    "    def __init__(self, always_apply=False, p=0.5):\n",
    "        super(ShuffleSentencesTransform, self).__init__(always_apply, p)\n",
    "\n",
    "    def apply(self, data, **params):\n",
    "        text, lang = data\n",
    "        sentences = self.get_sentences(text, lang)\n",
    "        random.shuffle(sentences)\n",
    "        return ' '.join(sentences), lang\n",
    "    \n",
    "#https://www.kaggle.com/code/shonenkov/nlp-albumentations/notebook"
   ]
  },
  {
   "cell_type": "code",
   "execution_count": 13,
   "id": "fd16002f",
   "metadata": {
    "scrolled": true
   },
   "outputs": [
    {
     "name": "stdout",
     "output_type": "stream",
     "text": [
      "23060\n"
     ]
    }
   ],
   "source": [
    "#print(len(nlp.vocab))"
   ]
  },
  {
   "cell_type": "code",
   "execution_count": 11,
   "id": "44b9523c",
   "metadata": {},
   "outputs": [],
   "source": [
    "transform = ShuffleSentencesTransform(p=1.0)\n",
    "transformed_list = []\n",
    "\n",
    "for iter in train_df['cleaned_text']:\n",
    "    text = iter\n",
    "    lang = 'en'\n",
    "    temp_text = transform(data=(text, lang))['data'][0]\n",
    "    transformed_list.append(temp_text)"
   ]
  },
  {
   "cell_type": "code",
   "execution_count": 12,
   "id": "2ed0ce19",
   "metadata": {},
   "outputs": [
    {
     "data": {
      "text/plain": [
       "'< sostok > problem change let good matter happen change mind need wake look problem good way change want change time ago problem change different help understand ting wok different example remember come united states think go change think go change different country realist wrong problem change change way remember shy think change lot problem think thing life need different way let happen rue change want problem example think go change need shy anymore need start see different way mad need know go happen people different way know change good let body change way want change choice problem decide _LIKE_NUM_ help understand thing work instance mom lot problem faith people mom scare high scare high understand mos scare high scare high time mom airplane laugh scare funny different way like high understand hoe thing work people example think mom different understand like high need understand help understand thing work need start thing work person life problem change different help understand different opinion different understand different opinion people think < eostok >'"
      ]
     },
     "execution_count": 12,
     "metadata": {},
     "output_type": "execute_result"
    }
   ],
   "source": [
    "transformed_list[1]"
   ]
  },
  {
   "cell_type": "code",
   "execution_count": 13,
   "id": "1133937d",
   "metadata": {},
   "outputs": [
    {
     "data": {
      "text/plain": [
       "'< sostok > problem change let good matter happen change mind need wake look problem good way change want change time ago problem change different help understand ting wok different example remember come united states think go change think go change different country realist wrong problem change change way remember shy think change lot problem think thing life need different way let happen rue change want problem example think go change need shy anymore need start see different way mad need know go happen people different way know change good let body change way want change choice problem decide _LIKE_NUM_ help understand thing work instance mom lot problem faith people mom scare high scare high understand mos scare high scare high time mom airplane laugh scare funny different way like high understand hoe thing work people example think mom different understand like high need understand help understand thing work need start thing work person life problem change different help understand different opinion different understand different opinion people think < eostok >'"
      ]
     },
     "execution_count": 13,
     "metadata": {},
     "output_type": "execute_result"
    }
   ],
   "source": [
    "train_df['cleaned_text'][1]"
   ]
  },
  {
   "cell_type": "markdown",
   "id": "ec5529a0",
   "metadata": {},
   "source": [
    "#### Order has not changed"
   ]
  },
  {
   "cell_type": "code",
   "execution_count": 14,
   "id": "d67496f6",
   "metadata": {},
   "outputs": [],
   "source": [
    "aug_df = train_df.copy()\n",
    "aug_df['cleaned_text'] = transformed_list"
   ]
  },
  {
   "cell_type": "code",
   "execution_count": 26,
   "id": "b5d1a335",
   "metadata": {},
   "outputs": [],
   "source": [
    "#aug_df['cleaned_text'][1]"
   ]
  },
  {
   "cell_type": "code",
   "execution_count": 15,
   "id": "e15957d5",
   "metadata": {},
   "outputs": [],
   "source": [
    "extended_dataset = pd.concat([train_df, aug_df], keys = 'text_id', ignore_index = True)"
   ]
  },
  {
   "cell_type": "code",
   "execution_count": 16,
   "id": "0b7b3dc8",
   "metadata": {},
   "outputs": [
    {
     "data": {
      "text/html": [
       "<div>\n",
       "<style scoped>\n",
       "    .dataframe tbody tr th:only-of-type {\n",
       "        vertical-align: middle;\n",
       "    }\n",
       "\n",
       "    .dataframe tbody tr th {\n",
       "        vertical-align: top;\n",
       "    }\n",
       "\n",
       "    .dataframe thead th {\n",
       "        text-align: right;\n",
       "    }\n",
       "</style>\n",
       "<table border=\"1\" class=\"dataframe\">\n",
       "  <thead>\n",
       "    <tr style=\"text-align: right;\">\n",
       "      <th></th>\n",
       "      <th>Unnamed: 0</th>\n",
       "      <th>text_id</th>\n",
       "      <th>full_text</th>\n",
       "      <th>cohesion</th>\n",
       "      <th>syntax</th>\n",
       "      <th>vocabulary</th>\n",
       "      <th>phraseology</th>\n",
       "      <th>grammar</th>\n",
       "      <th>conventions</th>\n",
       "      <th>cleaned_text</th>\n",
       "    </tr>\n",
       "  </thead>\n",
       "  <tbody>\n",
       "    <tr>\n",
       "      <th>7817</th>\n",
       "      <td>3906</td>\n",
       "      <td>FFD29828A873</td>\n",
       "      <td>I believe using cellphones in class for educat...</td>\n",
       "      <td>2.5</td>\n",
       "      <td>3.0</td>\n",
       "      <td>3.0</td>\n",
       "      <td>3.5</td>\n",
       "      <td>2.5</td>\n",
       "      <td>2.5</td>\n",
       "      <td>&lt; sostok &gt; believe cellphone class education g...</td>\n",
       "    </tr>\n",
       "    <tr>\n",
       "      <th>7818</th>\n",
       "      <td>3907</td>\n",
       "      <td>FFD9A83B0849</td>\n",
       "      <td>Working alone, students do not have to argue w...</td>\n",
       "      <td>4.0</td>\n",
       "      <td>4.0</td>\n",
       "      <td>4.0</td>\n",
       "      <td>4.0</td>\n",
       "      <td>3.5</td>\n",
       "      <td>3.0</td>\n",
       "      <td>&lt; sostok &gt; work student argue decission proyec...</td>\n",
       "    </tr>\n",
       "    <tr>\n",
       "      <th>7819</th>\n",
       "      <td>3908</td>\n",
       "      <td>FFDC4011AC9C</td>\n",
       "      <td>\"A problem is a chance for you to do your best...</td>\n",
       "      <td>2.5</td>\n",
       "      <td>3.0</td>\n",
       "      <td>3.0</td>\n",
       "      <td>3.0</td>\n",
       "      <td>3.5</td>\n",
       "      <td>3.0</td>\n",
       "      <td>&lt; sostok &gt; problem chance good think quote goo...</td>\n",
       "    </tr>\n",
       "    <tr>\n",
       "      <th>7820</th>\n",
       "      <td>3909</td>\n",
       "      <td>FFE16D704B16</td>\n",
       "      <td>Many people disagree with Albert Schweitzer's ...</td>\n",
       "      <td>4.0</td>\n",
       "      <td>4.5</td>\n",
       "      <td>4.5</td>\n",
       "      <td>4.0</td>\n",
       "      <td>4.5</td>\n",
       "      <td>4.5</td>\n",
       "      <td>&lt; sostok &gt; people disagree albert schweitzer q...</td>\n",
       "    </tr>\n",
       "    <tr>\n",
       "      <th>7821</th>\n",
       "      <td>3910</td>\n",
       "      <td>FFED00D6E0BD</td>\n",
       "      <td>Do you think that failure is the main thing fo...</td>\n",
       "      <td>3.5</td>\n",
       "      <td>2.5</td>\n",
       "      <td>3.5</td>\n",
       "      <td>3.0</td>\n",
       "      <td>3.0</td>\n",
       "      <td>3.5</td>\n",
       "      <td>&lt; sostok &gt; think failure main thing people con...</td>\n",
       "    </tr>\n",
       "  </tbody>\n",
       "</table>\n",
       "</div>"
      ],
      "text/plain": [
       "      Unnamed: 0       text_id  \\\n",
       "7817        3906  FFD29828A873   \n",
       "7818        3907  FFD9A83B0849   \n",
       "7819        3908  FFDC4011AC9C   \n",
       "7820        3909  FFE16D704B16   \n",
       "7821        3910  FFED00D6E0BD   \n",
       "\n",
       "                                              full_text  cohesion  syntax  \\\n",
       "7817  I believe using cellphones in class for educat...       2.5     3.0   \n",
       "7818  Working alone, students do not have to argue w...       4.0     4.0   \n",
       "7819  \"A problem is a chance for you to do your best...       2.5     3.0   \n",
       "7820  Many people disagree with Albert Schweitzer's ...       4.0     4.5   \n",
       "7821  Do you think that failure is the main thing fo...       3.5     2.5   \n",
       "\n",
       "      vocabulary  phraseology  grammar  conventions  \\\n",
       "7817         3.0          3.5      2.5          2.5   \n",
       "7818         4.0          4.0      3.5          3.0   \n",
       "7819         3.0          3.0      3.5          3.0   \n",
       "7820         4.5          4.0      4.5          4.5   \n",
       "7821         3.5          3.0      3.0          3.5   \n",
       "\n",
       "                                           cleaned_text  \n",
       "7817  < sostok > believe cellphone class education g...  \n",
       "7818  < sostok > work student argue decission proyec...  \n",
       "7819  < sostok > problem chance good think quote goo...  \n",
       "7820  < sostok > people disagree albert schweitzer q...  \n",
       "7821  < sostok > think failure main thing people con...  "
      ]
     },
     "execution_count": 16,
     "metadata": {},
     "output_type": "execute_result"
    }
   ],
   "source": [
    "extended_dataset.tail()"
   ]
  },
  {
   "cell_type": "code",
   "execution_count": 17,
   "id": "e0305d8a",
   "metadata": {},
   "outputs": [],
   "source": [
    "# rare word analysis\n",
    "def get_rare_word_percent(tokenizer, threshold):\n",
    "    # threshold: if the word's occurrence is less than this then it's rare word\n",
    "\n",
    "    count = 0\n",
    "    total_count = 0\n",
    "    frequency = 0\n",
    "    total_frequency = 0\n",
    "    rare_words = []\n",
    "\n",
    "    for key, value in tokenizer.word_counts.items():\n",
    "        total_count += 1\n",
    "        total_frequency += value\n",
    "        if value < threshold:\n",
    "            rare_words.append({key, value})\n",
    "            count += 1\n",
    "            frequency += value\n",
    "    print({\n",
    "        'percent': round((count / total_count) * 100, 2),\n",
    "        'total_coverage': round(frequency / total_frequency * 100, 2),\n",
    "        'count': count,\n",
    "        'total_count': total_count\n",
    "        })\n",
    "\n",
    "    return rare_words"
   ]
  },
  {
   "cell_type": "code",
   "execution_count": 18,
   "id": "4ba99b37",
   "metadata": {},
   "outputs": [
    {
     "name": "stdout",
     "output_type": "stream",
     "text": [
      "{'percent': 52.11, 'total_coverage': 1.39, 'count': 9056, 'total_count': 17377}\n"
     ]
    }
   ],
   "source": [
    "# This is a different tokenizer to the one built into SpaCy\n",
    "from tensorflow.keras.preprocessing.text import Tokenizer\n",
    "x_tokenizer = Tokenizer()\n",
    "x_tokenizer.fit_on_texts(extended_dataset['cleaned_text'])\n",
    "\n",
    "rare_words = get_rare_word_percent(x_tokenizer, 4)\n",
    "#print(rare_words)"
   ]
  },
  {
   "cell_type": "code",
   "execution_count": 16,
   "id": "62df396b",
   "metadata": {},
   "outputs": [],
   "source": [
    "#rare_words[:100]\n",
    "#mostly typos in otherwise normal"
   ]
  },
  {
   "cell_type": "code",
   "execution_count": 19,
   "id": "52b28c62",
   "metadata": {},
   "outputs": [
    {
     "name": "stdout",
     "output_type": "stream",
     "text": [
      "{'percent': 49.91, 'total_coverage': 0.66, 'count': 11065, 'total_count': 22169}\n"
     ]
    }
   ],
   "source": [
    "org_tokenizer = Tokenizer()\n",
    "org_tokenizer.fit_on_texts(extended_dataset['full_text'])\n",
    "\n",
    "rare_words_2 = get_rare_word_percent(org_tokenizer, 4)\n",
    "#print(rare_words)"
   ]
  },
  {
   "cell_type": "markdown",
   "id": "e15a2835",
   "metadata": {},
   "source": [
    "## y - multi output"
   ]
  },
  {
   "cell_type": "code",
   "execution_count": 20,
   "id": "0f30da01",
   "metadata": {},
   "outputs": [],
   "source": [
    "import numpy as np\n",
    "from sklearn.model_selection import train_test_split\n",
    "x_train, x_val, y_train, y_val = train_test_split(np.array(extended_dataset['cleaned_text']), np.array(extended_dataset[['cohesion', 'syntax', 'vocabulary',\n",
    "                                                                                  'phraseology', 'grammar', 'conventions']]), test_size = 0.05, random_state = 0, shuffle = True)"
   ]
  },
  {
   "cell_type": "code",
   "execution_count": 9,
   "id": "7e6fd278",
   "metadata": {},
   "outputs": [],
   "source": [
    "#x_val[:5]"
   ]
  },
  {
   "cell_type": "code",
   "execution_count": 21,
   "id": "5ccdcff9",
   "metadata": {},
   "outputs": [
    {
     "data": {
      "text/plain": [
       "array([[3. , 3. , 3. , 3. , 2.5, 3. ],\n",
       "       [3. , 3. , 3.5, 2. , 2. , 3. ],\n",
       "       [3.5, 2.5, 2.5, 3. , 3.5, 2.5],\n",
       "       [3.5, 3. , 3.5, 4. , 3.5, 3. ],\n",
       "       [3.5, 3. , 2.5, 3. , 3. , 2.5]])"
      ]
     },
     "execution_count": 21,
     "metadata": {},
     "output_type": "execute_result"
    }
   ],
   "source": [
    "test = np.array(y_val)\n",
    "test[:5]"
   ]
  },
  {
   "cell_type": "code",
   "execution_count": 22,
   "id": "93462e17",
   "metadata": {},
   "outputs": [
    {
     "name": "stdout",
     "output_type": "stream",
     "text": [
      "1.0\n"
     ]
    }
   ],
   "source": [
    "# To check how many rows in a column has length (of the text) <= limit\n",
    "def get_word_percent(column, limit):\n",
    "    count = 0\n",
    "    for sentence in column:\n",
    "        if len(sentence.split()) <= limit:\n",
    "            count += 1\n",
    "\n",
    "    return round(count / len(column), 2)\n",
    "\n",
    "\n",
    "# Check how many % of headlines have 0-430 words\n",
    "print(get_word_percent(train_df.cleaned_text, 430))"
   ]
  },
  {
   "cell_type": "markdown",
   "id": "e226fefc",
   "metadata": {},
   "source": [
    "## ^This is all that's needed to run the models. Good luck! "
   ]
  },
  {
   "cell_type": "markdown",
   "id": "35716b45",
   "metadata": {},
   "source": [
    "## Embedding matrix for Neural Nets\n",
    "#### P.S. Following is not needed for the normal classification models."
   ]
  },
  {
   "cell_type": "code",
   "execution_count": 23,
   "id": "73b16756",
   "metadata": {
    "scrolled": true
   },
   "outputs": [
    {
     "name": "stdout",
     "output_type": "stream",
     "text": [
      "17378\n",
      "(7430, 450)\n",
      "(7430, 6)\n",
      "(392, 450)\n",
      "(392, 6)\n"
     ]
    }
   ],
   "source": [
    "from tensorflow.keras.preprocessing.sequence import pad_sequences\n",
    "max_text_len = 450\n",
    "x_train_sequence = x_tokenizer.texts_to_sequences(x_train)\n",
    "x_val_sequence = x_tokenizer.texts_to_sequences(x_val)\n",
    "\n",
    "# padding upto max_text_len\n",
    "x_train_padded = pad_sequences(x_train_sequence, maxlen=max_text_len, padding='pre')\n",
    "x_val_padded = pad_sequences(x_val_sequence, maxlen=max_text_len, padding='pre')\n",
    "\n",
    "x_vocab_size = len(x_tokenizer.word_index) + 1\n",
    "\n",
    "print(x_vocab_size)\n",
    "\n",
    "print(x_train_padded.shape)\n",
    "print(y_train.shape)\n",
    "print(x_val_padded.shape)\n",
    "print(y_val.shape)"
   ]
  },
  {
   "cell_type": "code",
   "execution_count": 24,
   "id": "20b9d330",
   "metadata": {},
   "outputs": [
    {
     "name": "stdout",
     "output_type": "stream",
     "text": [
      "Found 400000 word vectors.\n",
      "Converted 10090 words (7287 misses)\n"
     ]
    }
   ],
   "source": [
    "def get_embedding_matrix(tokenizer, embedding_dim, vocab_size=None):\n",
    "    word_index = tokenizer.word_index\n",
    "    voc = list(word_index.keys())\n",
    "\n",
    "    path_to_glove_file = 'glove.6B.50d.txt'\n",
    "\n",
    "    embeddings_index = {}\n",
    "    with open(path_to_glove_file) as f:\n",
    "        for line in f:\n",
    "            word, coefs = line.split(maxsplit=1)\n",
    "            coefs = np.fromstring(coefs, \"f\", sep=\" \")\n",
    "            embeddings_index[word] = coefs\n",
    "\n",
    "    print(\"Found %s word vectors.\" % len(embeddings_index))\n",
    "\n",
    "    num_tokens = len(voc) + 2 if not vocab_size else vocab_size\n",
    "    hits = 0\n",
    "    misses = 0\n",
    "\n",
    "    # Prepare embedding matrix\n",
    "    embedding_matrix = np.zeros((num_tokens, embedding_dim))\n",
    "    for word, i in word_index.items():\n",
    "        embedding_vector = embeddings_index.get(word)\n",
    "        if embedding_vector is not None:\n",
    "            # Words not found in embedding index will be all-zeros.\n",
    "            # This includes the representation for \"padding\" and \"OOV\"\n",
    "            embedding_matrix[i] = embedding_vector\n",
    "            #print(\"Word, i : \", word, i)\n",
    "            hits += 1\n",
    "        else:\n",
    "            misses += 1\n",
    "    print(\"Converted %d words (%d misses)\" % (hits, misses))\n",
    "\n",
    "    return embedding_matrix\n",
    "\n",
    "embedding_dim = 50\n",
    "x_embedding_matrix = get_embedding_matrix(x_tokenizer, embedding_dim, x_vocab_size)"
   ]
  },
  {
   "cell_type": "code",
   "execution_count": 26,
   "id": "2cef3c3d",
   "metadata": {},
   "outputs": [
    {
     "data": {
      "text/plain": [
       "(17378, 50)"
      ]
     },
     "execution_count": 26,
     "metadata": {},
     "output_type": "execute_result"
    }
   ],
   "source": [
    "x_embedding_matrix.shape"
   ]
  },
  {
   "cell_type": "code",
   "execution_count": 25,
   "id": "f7f02c5e",
   "metadata": {},
   "outputs": [
    {
     "data": {
      "text/plain": [
       "array([ 0.95280999, -0.20608   ,  0.55618   , -0.46323001,  0.73354   ,\n",
       "        0.029137  , -0.19367   , -0.090066  , -0.22958   , -0.19058   ,\n",
       "       -0.34856999, -1.02310002,  0.74299997, -0.54890001,  0.88484001,\n",
       "       -0.14050999,  0.0040139 ,  0.58447999,  0.10767   , -0.44657001,\n",
       "       -0.43204999,  0.98680001,  0.78288001,  0.51512998,  0.85788   ,\n",
       "       -1.77129996, -0.88259   , -0.59728003,  0.084934  , -0.48111999,\n",
       "        3.9677999 ,  0.88929999, -0.27063999, -0.44093999, -0.26212999,\n",
       "        0.085597  ,  0.022099  , -0.58376002,  0.10908   ,  0.77973002,\n",
       "       -0.95446998,  0.40482   ,  0.89410001,  0.65250999,  0.39858001,\n",
       "        0.20884   , -1.32809997, -0.10882   , -0.22822   , -0.46303001])"
      ]
     },
     "execution_count": 25,
     "metadata": {},
     "output_type": "execute_result"
    }
   ],
   "source": [
    "x_embedding_matrix[2]"
   ]
  },
  {
   "cell_type": "code",
   "execution_count": 54,
   "id": "cdd99e43",
   "metadata": {},
   "outputs": [],
   "source": [
    "#root mean squared error\n",
    "from keras import backend as K \n",
    "def root_mean_squared_error(y):\n",
    "    y_true = y[0]\n",
    "    y_pred = y[1]\n",
    "    return K.sqrt(K.mean(K.square(y_pred - y_true))) \n",
    "\n",
    "#tensor containing the RMSE for each column.\n",
    "def mean_columnwise_root_mean_squared_error(y_true, y_pred):\n",
    "    all_rmse = tf.map_fn(root_mean_squared_error, (y_true, y_pred), dtype=tf.float32)\n",
    "    return K.mean(all_rmse)    "
   ]
  },
  {
   "cell_type": "code",
   "execution_count": 55,
   "id": "6a134fdd",
   "metadata": {},
   "outputs": [
    {
     "name": "stderr",
     "output_type": "stream",
     "text": [
      "2023-08-03 20:56:13.720366: I tensorflow/core/platform/cpu_feature_guard.cc:193] This TensorFlow binary is optimized with oneAPI Deep Neural Network Library (oneDNN) to use the following CPU instructions in performance-critical operations:  AVX2 FMA\n",
      "To enable them in other operations, rebuild TensorFlow with the appropriate compiler flags.\n",
      "2023-08-03 20:56:13.726006: I tensorflow/stream_executor/cuda/cuda_gpu_executor.cc:966] could not open file to read NUMA node: /sys/bus/pci/devices/0000:01:00.0/numa_node\n",
      "Your kernel may have been built without NUMA support.\n",
      "2023-08-03 20:56:13.726920: I tensorflow/stream_executor/cuda/cuda_gpu_executor.cc:966] could not open file to read NUMA node: /sys/bus/pci/devices/0000:01:00.0/numa_node\n",
      "Your kernel may have been built without NUMA support.\n",
      "2023-08-03 20:56:13.727477: I tensorflow/stream_executor/cuda/cuda_gpu_executor.cc:966] could not open file to read NUMA node: /sys/bus/pci/devices/0000:01:00.0/numa_node\n",
      "Your kernel may have been built without NUMA support.\n",
      "2023-08-03 20:56:21.142244: I tensorflow/stream_executor/cuda/cuda_gpu_executor.cc:966] could not open file to read NUMA node: /sys/bus/pci/devices/0000:01:00.0/numa_node\n",
      "Your kernel may have been built without NUMA support.\n",
      "2023-08-03 20:56:21.143893: I tensorflow/stream_executor/cuda/cuda_gpu_executor.cc:966] could not open file to read NUMA node: /sys/bus/pci/devices/0000:01:00.0/numa_node\n",
      "Your kernel may have been built without NUMA support.\n",
      "2023-08-03 20:56:21.143913: I tensorflow/core/common_runtime/gpu/gpu_device.cc:1700] Could not identify NUMA node of platform GPU id 0, defaulting to 0.  Your kernel may not have been built with NUMA support.\n",
      "2023-08-03 20:56:21.144351: I tensorflow/stream_executor/cuda/cuda_gpu_executor.cc:966] could not open file to read NUMA node: /sys/bus/pci/devices/0000:01:00.0/numa_node\n",
      "Your kernel may have been built without NUMA support.\n",
      "2023-08-03 20:56:21.144815: I tensorflow/core/common_runtime/gpu/gpu_device.cc:1616] Created device /job:localhost/replica:0/task:0/device:GPU:0 with 3527 MB memory:  -> device: 0, name: NVIDIA GeForce GTX 1660 Ti, pci bus id: 0000:01:00.0, compute capability: 7.5\n"
     ]
    },
    {
     "name": "stdout",
     "output_type": "stream",
     "text": [
      "Model: \"model\"\n",
      "_________________________________________________________________\n",
      " Layer (type)                Output Shape              Param #   \n",
      "=================================================================\n",
      " input_1 (InputLayer)        [(None, 450)]             0         \n",
      "                                                                 \n",
      " embedding (Embedding)       (None, 450, 50)           868900    \n",
      "                                                                 \n",
      " conv1d (Conv1D)             (None, 449, 128)          12928     \n",
      "                                                                 \n",
      " conv1d_1 (Conv1D)           (None, 448, 128)          32896     \n",
      "                                                                 \n",
      " dropout (Dropout)           (None, 448, 128)          0         \n",
      "                                                                 \n",
      " global_average_pooling1d (G  (None, 128)              0         \n",
      " lobalAveragePooling1D)                                          \n",
      "                                                                 \n",
      " dense (Dense)               (None, 6)                 774       \n",
      "                                                                 \n",
      "=================================================================\n",
      "Total params: 915,498\n",
      "Trainable params: 46,598\n",
      "Non-trainable params: 868,900\n",
      "_________________________________________________________________\n"
     ]
    }
   ],
   "source": [
    "from tensorflow.keras import backend as backend\n",
    "from tensorflow.keras.models import Model\n",
    "from tensorflow.keras.layers import LSTM, Dense, Embedding, Input, dot, Dropout, MaxPooling1D, GlobalAveragePooling1D, Conv1D\n",
    "import tensorflow as tf\n",
    "backend.clear_session()\n",
    "input_dim = len(x_train_padded[0])\n",
    "input_layer = Input(shape = (input_dim, ))\n",
    "embedding_layer = Embedding(input_dim = x_vocab_size, \n",
    "                    output_dim = embedding_dim, \n",
    "                    embeddings_initializer = tf.keras.initializers.Constant(x_embedding_matrix),\n",
    "                    input_length=max_text_len, trainable = False, mask_zero = True)(input_layer)\n",
    "conv_1 = Conv1D(128, 2, activation = 'relu')(embedding_layer)\n",
    "conv_2 = Conv1D(128, 2, activation = 'relu')(conv_1)\n",
    "\n",
    "# Dropout\n",
    "dropout_1 = Dropout(0.2)(conv_2)\n",
    "\n",
    "#conv_3 = Conv1D(128, 2, activation = 'relu')(dropout_1)\n",
    "#conv_4 = Conv1D(128, 2, activation = 'relu')(conv_3)\n",
    "\n",
    "# Dropout\n",
    "#dropout_2 = Dropout(0.2)(conv_4)\n",
    "\n",
    "# Pooling\n",
    "pooling_layer = GlobalAveragePooling1D()(dropout_1)\n",
    "\n",
    "# Output\n",
    "output_layer = Dense(6)(pooling_layer)\n",
    "\n",
    "model = Model(inputs=input_layer, outputs=output_layer)\n",
    "optimizer_obj = tf.keras.optimizers.Adam(learning_rate=0.001)\n",
    "model.compile(optimizer=optimizer_obj, loss=mean_columnwise_root_mean_squared_error)\n",
    "model.summary()"
   ]
  },
  {
   "cell_type": "code",
   "execution_count": 57,
   "id": "7d11c242",
   "metadata": {},
   "outputs": [],
   "source": [
    "from tensorflow.keras.callbacks import EarlyStopping\n",
    "from tensorflow.keras.callbacks import ReduceLROnPlateau\n",
    "callbacks = [\n",
    "    EarlyStopping(monitor='val_loss',\n",
    "                  mode='min', verbose=1, patience=3, min_delta = 0.002),\n",
    "    ReduceLROnPlateau(monitor='val_loss', factor=0.1, patience=1, min_lr=0.000001, verbose=1),\n",
    "]"
   ]
  },
  {
   "cell_type": "code",
   "execution_count": 58,
   "id": "2c7a600e",
   "metadata": {
    "scrolled": true
   },
   "outputs": [
    {
     "name": "stdout",
     "output_type": "stream",
     "text": [
      "Epoch 1/20\n",
      "WARNING:tensorflow:From /home/rkv/miniconda3/envs/tf/lib/python3.9/site-packages/tensorflow/python/util/deprecation.py:629: calling map_fn_v2 (from tensorflow.python.ops.map_fn) with dtype is deprecated and will be removed in a future version.\n",
      "Instructions for updating:\n",
      "Use fn_output_signature instead\n"
     ]
    },
    {
     "name": "stderr",
     "output_type": "stream",
     "text": [
      "2023-08-03 20:56:37.211429: I tensorflow/stream_executor/cuda/cuda_dnn.cc:384] Loaded cuDNN version 8500\n"
     ]
    },
    {
     "name": "stdout",
     "output_type": "stream",
     "text": [
      "117/117 [==============================] - 33s 208ms/step - loss: 1.0194 - val_loss: 0.5813 - lr: 0.0010\n",
      "Epoch 2/20\n",
      "117/117 [==============================] - 23s 197ms/step - loss: 0.5712 - val_loss: 0.5728 - lr: 0.0010\n",
      "Epoch 3/20\n",
      "117/117 [==============================] - 24s 202ms/step - loss: 0.5555 - val_loss: 0.5521 - lr: 0.0010\n",
      "Epoch 4/20\n",
      "117/117 [==============================] - 24s 202ms/step - loss: 0.5422 - val_loss: 0.5427 - lr: 0.0010\n",
      "Epoch 5/20\n",
      "117/117 [==============================] - 23s 198ms/step - loss: 0.5347 - val_loss: 0.5359 - lr: 0.0010\n",
      "Epoch 6/20\n",
      "117/117 [==============================] - 24s 207ms/step - loss: 0.5308 - val_loss: 0.5342 - lr: 0.0010\n",
      "Epoch 7/20\n",
      "117/117 [==============================] - 24s 204ms/step - loss: 0.5245 - val_loss: 0.5283 - lr: 0.0010\n",
      "Epoch 8/20\n",
      "116/117 [============================>.] - ETA: 0s - loss: 0.5225\n",
      "Epoch 8: ReduceLROnPlateau reducing learning rate to 0.00010000000474974513.\n",
      "117/117 [==============================] - 23s 198ms/step - loss: 0.5224 - val_loss: 0.5351 - lr: 0.0010\n",
      "Epoch 9/20\n",
      "117/117 [==============================] - 22s 192ms/step - loss: 0.5154 - val_loss: 0.5209 - lr: 1.0000e-04\n",
      "Epoch 10/20\n",
      "117/117 [==============================] - 22s 189ms/step - loss: 0.5128 - val_loss: 0.5206 - lr: 1.0000e-04\n",
      "Epoch 11/20\n",
      "116/117 [============================>.] - ETA: 0s - loss: 0.5133\n",
      "Epoch 11: ReduceLROnPlateau reducing learning rate to 1.0000000474974514e-05.\n",
      "117/117 [==============================] - 22s 191ms/step - loss: 0.5133 - val_loss: 0.5206 - lr: 1.0000e-04\n",
      "Epoch 12/20\n",
      "116/117 [============================>.] - ETA: 0s - loss: 0.5116\n",
      "Epoch 12: ReduceLROnPlateau reducing learning rate to 1.0000000656873453e-06.\n",
      "117/117 [==============================] - 23s 197ms/step - loss: 0.5116 - val_loss: 0.5206 - lr: 1.0000e-05\n",
      "Epoch 12: early stopping\n"
     ]
    }
   ],
   "source": [
    "history = model.fit(x_train_padded, y_train, epochs=20, validation_data=(x_val_padded, y_val), batch_size = 64, callbacks = callbacks)"
   ]
  },
  {
   "cell_type": "code",
   "execution_count": 59,
   "id": "93b1c33f",
   "metadata": {},
   "outputs": [],
   "source": [
    "model_json = model.to_json()\n",
    "with open('saved_models/CNN_Glove50_aug.json', 'w') as f:\n",
    "    f.write(model_json)"
   ]
  },
  {
   "cell_type": "code",
   "execution_count": 60,
   "id": "ff303596",
   "metadata": {},
   "outputs": [
    {
     "data": {
      "image/png": "[encoded data removed]",
      "text/plain": [
       "<Figure size 640x480 with 1 Axes>"
      ]
     },
     "metadata": {},
     "output_type": "display_data"
    },
    {
     "data": {
      "text/plain": [
       "<Figure size 640x480 with 0 Axes>"
      ]
     },
     "metadata": {},
     "output_type": "display_data"
    }
   ],
   "source": [
    "from matplotlib import pyplot\n",
    "pyplot.plot(history.history['loss'], label='train')\n",
    "pyplot.plot(history.history['val_loss'], label='test')\n",
    "pyplot.legend()\n",
    "pyplot.show()\n",
    "pyplot.savefig('CNN_Glove50_aug.png')\n",
    "model.save_weights('saved_models/CNN_Glove50_aug.h5', save_format = 'h5')"
   ]
  },
  {
   "cell_type": "code",
   "execution_count": 19,
   "id": "af450318",
   "metadata": {
    "scrolled": true
   },
   "outputs": [],
   "source": [
    "#model.save('saved_models/LSTM_combined_dense_1')"
   ]
  },
  {
   "cell_type": "code",
   "execution_count": 61,
   "id": "27a84f32",
   "metadata": {
    "scrolled": true
   },
   "outputs": [],
   "source": [
    "from keras.models import model_from_json\n",
    "with open('saved_models/CNN_Glove50_aug.json', 'r') as f:\n",
    "    loaded_json = f.read()\n",
    "    f.close()\n",
    "    loaded_model = model_from_json(loaded_json)\n",
    "loaded_model.load_weights('saved_models/CNN_Glove50_aug.h5')"
   ]
  },
  {
   "cell_type": "code",
   "execution_count": 62,
   "id": "cf5f2034",
   "metadata": {},
   "outputs": [
    {
     "name": "stdout",
     "output_type": "stream",
     "text": [
      "Model: \"model\"\n",
      "_________________________________________________________________\n",
      " Layer (type)                Output Shape              Param #   \n",
      "=================================================================\n",
      " input_1 (InputLayer)        [(None, 450)]             0         \n",
      "                                                                 \n",
      " embedding (Embedding)       (None, 450, 50)           868900    \n",
      "                                                                 \n",
      " conv1d (Conv1D)             (None, 449, 128)          12928     \n",
      "                                                                 \n",
      " conv1d_1 (Conv1D)           (None, 448, 128)          32896     \n",
      "                                                                 \n",
      " dropout (Dropout)           (None, 448, 128)          0         \n",
      "                                                                 \n",
      " global_average_pooling1d (G  (None, 128)              0         \n",
      " lobalAveragePooling1D)                                          \n",
      "                                                                 \n",
      " dense (Dense)               (None, 6)                 774       \n",
      "                                                                 \n",
      "=================================================================\n",
      "Total params: 915,498\n",
      "Trainable params: 46,598\n",
      "Non-trainable params: 868,900\n",
      "_________________________________________________________________\n"
     ]
    }
   ],
   "source": [
    "loaded_model.summary()"
   ]
  },
  {
   "cell_type": "code",
   "execution_count": 63,
   "id": "35f4ae63",
   "metadata": {},
   "outputs": [
    {
     "name": "stdout",
     "output_type": "stream",
     "text": [
      "Validation loss: 52.06%\n"
     ]
    }
   ],
   "source": [
    "loaded_model.compile(optimizer=optimizer_obj, loss=mean_columnwise_root_mean_squared_error)\n",
    "scores = loaded_model.evaluate(x_val_padded, y_val, verbose=0)\n",
    "print(\"Validation loss: %.2f%%\" % (scores*100))"
   ]
  },
  {
   "cell_type": "code",
   "execution_count": 64,
   "id": "d483877d",
   "metadata": {},
   "outputs": [
    {
     "name": "stdout",
     "output_type": "stream",
     "text": [
      "13/13 [==============================] - 0s 8ms/step\n",
      "Predicted results:  [[2.9791152 2.8154635 3.0687764 2.8959873 2.645903  2.839581 ]\n",
      " [3.139825  3.0315242 3.161587  3.0798905 3.102504  3.1530578]\n",
      " [2.8979676 2.7836363 2.980382  2.8388193 2.8295195 2.8044183]\n",
      " [2.6402657 2.4814456 2.8023703 2.6057131 2.3655522 2.353733 ]\n",
      " [3.007704  2.8908935 3.0137968 2.9445083 2.9685538 3.039684 ]\n",
      " [2.7979267 2.6844878 2.895976  2.7663105 2.7271552 2.7472677]\n",
      " [2.934377  2.8499887 3.0601065 2.9094417 2.8940878 2.8810172]\n",
      " [3.5538042 3.4303553 3.8726373 3.663131  3.2393408 3.465751 ]\n",
      " [3.0027506 2.940299  3.0749514 3.018273  3.0730824 3.0424633]\n",
      " [3.7440732 3.5808709 3.8382037 3.6695173 3.3504217 3.6476312]]\n",
      "Actual results:  [[3.  3.  3.  3.  2.5 3. ]\n",
      " [3.  3.  3.5 2.  2.  3. ]\n",
      " [3.5 2.5 2.5 3.  3.5 2.5]\n",
      " [3.5 3.  3.5 4.  3.5 3. ]\n",
      " [3.5 3.  2.5 3.  3.  2.5]\n",
      " [2.5 2.  2.  2.  2.  2. ]\n",
      " [2.5 2.5 3.  3.  2.  2. ]\n",
      " [2.5 2.5 3.  2.5 2.  2.5]\n",
      " [3.  4.  3.5 3.5 3.  3.5]\n",
      " [3.  3.  3.5 3.  2.5 3. ]]\n"
     ]
    }
   ],
   "source": [
    "test_scores = loaded_model.predict(x_val_padded)\n",
    "print(\"Predicted results: \", test_scores[:10])\n",
    "print(\"Actual results: \", y_val[:10])"
   ]
  },
  {
   "cell_type": "code",
   "execution_count": 65,
   "id": "ea71234b",
   "metadata": {},
   "outputs": [
    {
     "data": {
      "text/plain": [
       "(6,)"
      ]
     },
     "execution_count": 65,
     "metadata": {},
     "output_type": "execute_result"
    }
   ],
   "source": [
    "test_scores[1].shape"
   ]
  },
  {
   "cell_type": "code",
   "execution_count": 66,
   "id": "1308de14",
   "metadata": {},
   "outputs": [],
   "source": [
    "results_df = pd.DataFrame(data = list(zip(test_scores, y_val)), columns = ['Pred_scores', 'Actual'])\n",
    "results_df.to_csv(\"CNN_Glove50_aug.csv\")"
   ]
  },
  {
   "cell_type": "code",
   "execution_count": 67,
   "id": "3f0a33a2",
   "metadata": {},
   "outputs": [],
   "source": [
    "analysis_df = results_df\n",
    "analysis_df['error'] = results_df['Pred_scores'] - results_df['Actual']\n",
    "analysis_df.to_csv(\"CNN_Glove50_aug.csv\")\n",
    "analysis_df.to_pickle(\"CNN_Glove50_aug.pkl\")"
   ]
  },
  {
   "cell_type": "code",
   "execution_count": null,
   "id": "4dedefec",
   "metadata": {},
   "outputs": [],
   "source": [
    "#analysis_df = pd.read_csv(\"m1_a_m_pre_LSTM_combined_colwise.csv\", converters = {'error': pd.eval})"
   ]
  },
  {
   "cell_type": "code",
   "execution_count": 27,
   "id": "3b175dad",
   "metadata": {},
   "outputs": [],
   "source": [
    "analysis_df = pd.read_pickle(\"CNN_Glove50_aug.pkl\")"
   ]
  },
  {
   "cell_type": "code",
   "execution_count": 28,
   "id": "827d1b53",
   "metadata": {},
   "outputs": [
    {
     "data": {
      "text/html": [
       "<div>\n",
       "<style scoped>\n",
       "    .dataframe tbody tr th:only-of-type {\n",
       "        vertical-align: middle;\n",
       "    }\n",
       "\n",
       "    .dataframe tbody tr th {\n",
       "        vertical-align: top;\n",
       "    }\n",
       "\n",
       "    .dataframe thead th {\n",
       "        text-align: right;\n",
       "    }\n",
       "</style>\n",
       "<table border=\"1\" class=\"dataframe\">\n",
       "  <thead>\n",
       "    <tr style=\"text-align: right;\">\n",
       "      <th></th>\n",
       "      <th>Pred_scores</th>\n",
       "      <th>Actual</th>\n",
       "      <th>error</th>\n",
       "    </tr>\n",
       "  </thead>\n",
       "  <tbody>\n",
       "    <tr>\n",
       "      <th>0</th>\n",
       "      <td>[2.9791152, 2.8154635, 3.0687764, 2.8959873, 2...</td>\n",
       "      <td>[3.0, 3.0, 3.0, 3.0, 2.5, 3.0]</td>\n",
       "      <td>[-0.02088475227355957, -0.18453645706176758, 0...</td>\n",
       "    </tr>\n",
       "    <tr>\n",
       "      <th>1</th>\n",
       "      <td>[3.139825, 3.0315242, 3.161587, 3.0798905, 3.1...</td>\n",
       "      <td>[3.0, 3.0, 3.5, 2.0, 2.0, 3.0]</td>\n",
       "      <td>[0.13982510566711426, 0.0315241813659668, -0.3...</td>\n",
       "    </tr>\n",
       "    <tr>\n",
       "      <th>2</th>\n",
       "      <td>[2.8979676, 2.7836363, 2.980382, 2.8388193, 2....</td>\n",
       "      <td>[3.5, 2.5, 2.5, 3.0, 3.5, 2.5]</td>\n",
       "      <td>[-0.6020324230194092, 0.28363633155822754, 0.4...</td>\n",
       "    </tr>\n",
       "    <tr>\n",
       "      <th>3</th>\n",
       "      <td>[2.6402657, 2.4814456, 2.8023703, 2.6057131, 2...</td>\n",
       "      <td>[3.5, 3.0, 3.5, 4.0, 3.5, 3.0]</td>\n",
       "      <td>[-0.859734296798706, -0.5185544490814209, -0.6...</td>\n",
       "    </tr>\n",
       "    <tr>\n",
       "      <th>4</th>\n",
       "      <td>[3.007704, 2.8908935, 3.0137968, 2.9445083, 2....</td>\n",
       "      <td>[3.5, 3.0, 2.5, 3.0, 3.0, 2.5]</td>\n",
       "      <td>[-0.4922959804534912, -0.10910654067993164, 0....</td>\n",
       "    </tr>\n",
       "  </tbody>\n",
       "</table>\n",
       "</div>"
      ],
      "text/plain": [
       "                                         Pred_scores  \\\n",
       "0  [2.9791152, 2.8154635, 3.0687764, 2.8959873, 2...   \n",
       "1  [3.139825, 3.0315242, 3.161587, 3.0798905, 3.1...   \n",
       "2  [2.8979676, 2.7836363, 2.980382, 2.8388193, 2....   \n",
       "3  [2.6402657, 2.4814456, 2.8023703, 2.6057131, 2...   \n",
       "4  [3.007704, 2.8908935, 3.0137968, 2.9445083, 2....   \n",
       "\n",
       "                           Actual  \\\n",
       "0  [3.0, 3.0, 3.0, 3.0, 2.5, 3.0]   \n",
       "1  [3.0, 3.0, 3.5, 2.0, 2.0, 3.0]   \n",
       "2  [3.5, 2.5, 2.5, 3.0, 3.5, 2.5]   \n",
       "3  [3.5, 3.0, 3.5, 4.0, 3.5, 3.0]   \n",
       "4  [3.5, 3.0, 2.5, 3.0, 3.0, 2.5]   \n",
       "\n",
       "                                               error  \n",
       "0  [-0.02088475227355957, -0.18453645706176758, 0...  \n",
       "1  [0.13982510566711426, 0.0315241813659668, -0.3...  \n",
       "2  [-0.6020324230194092, 0.28363633155822754, 0.4...  \n",
       "3  [-0.859734296798706, -0.5185544490814209, -0.6...  \n",
       "4  [-0.4922959804534912, -0.10910654067993164, 0....  "
      ]
     },
     "execution_count": 28,
     "metadata": {},
     "output_type": "execute_result"
    }
   ],
   "source": [
    "analysis_df.head()"
   ]
  },
  {
   "cell_type": "code",
   "execution_count": 31,
   "id": "fc8dfe5d",
   "metadata": {},
   "outputs": [],
   "source": [
    "pred_lst = analysis_df.Pred_scores\n",
    "actual_lst = analysis_df.Actual\n",
    "#cohesion \tsyntax \tvocabulary \tphraseology \tgrammar \tconventions"
   ]
  },
  {
   "cell_type": "code",
   "execution_count": 32,
   "id": "fd6c14d0",
   "metadata": {},
   "outputs": [],
   "source": [
    "# flat is faster than item\n",
    "cohesion_pred_lst = [x.flat[0] for x in pred_lst]\n",
    "cohesion_act_lst = [x.flat[0] for x in actual_lst]\n",
    "\n",
    "syntax_pred_lst = [x.flat[1] for x in pred_lst]\n",
    "syntax_act_lst = [x.flat[1] for x in actual_lst]\n",
    "\n",
    "vocabulary_pred_lst = [x.flat[2] for x in pred_lst]\n",
    "vocabulary_act_lst = [x.flat[2] for x in actual_lst]\n",
    "\n",
    "phraseology_pred_lst = [x.flat[3] for x in pred_lst]\n",
    "phraseology_act_lst = [x.flat[3] for x in actual_lst]\n",
    "\n",
    "grammar_pred_lst = [x.flat[4] for x in pred_lst]\n",
    "grammar_act_lst = [x.flat[4] for x in actual_lst]\n",
    "\n",
    "conventions_pred_lst = [x.flat[5] for x in pred_lst]\n",
    "conventions_act_lst = [x.flat[5] for x in actual_lst]"
   ]
  },
  {
   "cell_type": "code",
   "execution_count": 69,
   "id": "dc7f4de3",
   "metadata": {},
   "outputs": [],
   "source": [
    "# Predicted scores are not normally distributed. Model is learning something \n",
    "# other than the normal distribution. Good news!"
   ]
  },
  {
   "cell_type": "code",
   "execution_count": 33,
   "id": "dbce0d0a",
   "metadata": {},
   "outputs": [
    {
     "data": {
      "text/plain": [
       "392"
      ]
     },
     "execution_count": 33,
     "metadata": {},
     "output_type": "execute_result"
    }
   ],
   "source": [
    "iterations = x_val_padded.shape[0]\n",
    "iterations"
   ]
  },
  {
   "cell_type": "code",
   "execution_count": 34,
   "id": "619f00a5",
   "metadata": {},
   "outputs": [],
   "source": [
    "nonzero_count = []\n",
    "for num in range(iterations):\n",
    "    nonzero_count.append(np.count_nonzero(x_val_padded[num]))\n",
    "#nonzero_count"
   ]
  },
  {
   "cell_type": "code",
   "execution_count": null,
   "id": "a57df263",
   "metadata": {},
   "outputs": [],
   "source": [
    "#cohesion \tsyntax \tvocabulary \tphraseology \tgrammar \tconventions"
   ]
  },
  {
   "cell_type": "code",
   "execution_count": 36,
   "id": "b7332b35",
   "metadata": {},
   "outputs": [],
   "source": [
    "#test_scores[1].shape"
   ]
  },
  {
   "cell_type": "code",
   "execution_count": 37,
   "id": "e89f4b4c",
   "metadata": {},
   "outputs": [],
   "source": [
    "proof_df = analysis_df\n",
    "proof_df['nonzero'] = nonzero_count"
   ]
  },
  {
   "cell_type": "code",
   "execution_count": 38,
   "id": "c0977a15",
   "metadata": {},
   "outputs": [
    {
     "name": "stdout",
     "output_type": "stream",
     "text": [
      "[array([2.9791152, 2.8154635, 3.0687764, 2.8959873, 2.645903 , 2.839581 ],\n",
      "       dtype=float32)\n",
      " array([3.139825 , 3.0315242, 3.161587 , 3.0798905, 3.102504 , 3.1530578],\n",
      "       dtype=float32)\n",
      " array([2.8979676, 2.7836363, 2.980382 , 2.8388193, 2.8295195, 2.8044183],\n",
      "       dtype=float32)\n",
      " array([2.6402657, 2.4814456, 2.8023703, 2.6057131, 2.3655522, 2.353733 ],\n",
      "       dtype=float32)\n",
      " array([3.007704 , 2.8908935, 3.0137968, 2.9445083, 2.9685538, 3.039684 ],\n",
      "       dtype=float32)                                                     ]\n"
     ]
    }
   ],
   "source": [
    "pred_scores = np.array((pred_lst))\n",
    "act_scores = np.array((actual_lst))\n",
    "print(pred_scores[:5])"
   ]
  },
  {
   "cell_type": "code",
   "execution_count": 39,
   "id": "59c66373",
   "metadata": {},
   "outputs": [
    {
     "data": {
      "text/plain": [
       "<AxesSubplot:>"
      ]
     },
     "execution_count": 39,
     "metadata": {},
     "output_type": "execute_result"
    },
    {
     "data": {
      "image/png": "[encoded data removed]",
      "text/plain": [
       "<Figure size 640x480 with 2 Axes>"
      ]
     },
     "metadata": {},
     "output_type": "display_data"
    }
   ],
   "source": [
    "pred_scores_mean = [x.mean() for x in pred_scores]\n",
    "pred_scores_mean[:5]\n",
    "\n",
    "corr_df = pd.DataFrame({'pred_scores' : pred_scores_mean, 'nonzero' : nonzero_count})\n",
    "\n",
    "import seaborn as sns\n",
    "sns.heatmap(corr_df.corr(), annot = True, cmap = \"crest\")"
   ]
  },
  {
   "cell_type": "markdown",
   "id": "f6e30982",
   "metadata": {},
   "source": [
    "#### Actual correlation has been altered by data augmentation (used to be 0.31), but the model is still able to pick up on it well."
   ]
  },
  {
   "cell_type": "code",
   "execution_count": 41,
   "id": "ab7355f5",
   "metadata": {},
   "outputs": [
    {
     "data": {
      "text/plain": [
       "<AxesSubplot:>"
      ]
     },
     "execution_count": 41,
     "metadata": {},
     "output_type": "execute_result"
    },
    {
     "data": {
      "image/png": "[encoded data removed]",
      "text/plain": [
       "<Figure size 640x480 with 2 Axes>"
      ]
     },
     "metadata": {},
     "output_type": "display_data"
    }
   ],
   "source": [
    "act_scores_mean = [x.mean() for x in act_scores]\n",
    "act_corr_df = pd.DataFrame({'act_scores' : act_scores_mean, 'nonzero' : nonzero_count})\n",
    "sns.heatmap(act_corr_df.corr(), annot = True, cmap = \"crest\")"
   ]
  },
  {
   "cell_type": "code",
   "execution_count": 42,
   "id": "c9d587c8",
   "metadata": {},
   "outputs": [
    {
     "data": {
      "text/plain": [
       "array([[<AxesSubplot:title={'center':'act_scores'}>]], dtype=object)"
      ]
     },
     "execution_count": 42,
     "metadata": {},
     "output_type": "execute_result"
    },
    {
     "data": {
      "image/png": "[encoded data removed]",
      "text/plain": [
       "<Figure size 640x480 with 1 Axes>"
      ]
     },
     "metadata": {},
     "output_type": "display_data"
    }
   ],
   "source": [
    "act_corr_df.hist(column = 'act_scores', bins = 20)"
   ]
  },
  {
   "cell_type": "markdown",
   "id": "54135b21",
   "metadata": {},
   "source": [
    "### Plotting the mean of the actual and mean of the predicted scores."
   ]
  },
  {
   "cell_type": "code",
   "execution_count": 43,
   "id": "2fe10f58",
   "metadata": {},
   "outputs": [
    {
     "data": {
      "text/plain": [
       "array([[<AxesSubplot:title={'center':'pred_scores'}>]], dtype=object)"
      ]
     },
     "execution_count": 43,
     "metadata": {},
     "output_type": "execute_result"
    },
    {
     "data": {
      "image/png": "[encoded data removed]",
      "text/plain": [
       "<Figure size 640x480 with 1 Axes>"
      ]
     },
     "metadata": {},
     "output_type": "display_data"
    }
   ],
   "source": [
    "corr_df.hist(column = 'pred_scores', bins = 20, range = [1.5, 4.5])"
   ]
  },
  {
   "cell_type": "markdown",
   "id": "c3640a98",
   "metadata": {},
   "source": [
    "#### Model's scores are very nicely distributed!!"
   ]
  },
  {
   "cell_type": "code",
   "execution_count": 44,
   "id": "0dbf13a9",
   "metadata": {},
   "outputs": [
    {
     "name": "stdout",
     "output_type": "stream",
     "text": [
      "Pred median :  3.0758083\n",
      "Actual median :  3.0\n"
     ]
    }
   ],
   "source": [
    "pred_median_lst = [np.median(x) for x in pred_lst]\n",
    "pred_med = np.median(pred_median_lst)\n",
    "\n",
    "act_median_lst = [np.median(x) for x in actual_lst]\n",
    "act_med = np.median(act_median_lst)\n",
    "\n",
    "print(\"Pred median : \", pred_med)\n",
    "print(\"Actual median : \", act_med)"
   ]
  },
  {
   "cell_type": "code",
   "execution_count": 45,
   "id": "040b4104",
   "metadata": {},
   "outputs": [
    {
     "name": "stdout",
     "output_type": "stream",
     "text": [
      "Pred mean variance :  0.011082114\n",
      "Actual mean variance :  0.11784297052154194\n"
     ]
    }
   ],
   "source": [
    "pred_var_lst = [np.var(x) for x in pred_lst]\n",
    "act_var_lst = [np.var(x) for x in actual_lst]\n",
    "\n",
    "#print(pred_var_lst)\n",
    "\n",
    "pred_var = np.mean(pred_var_lst)\n",
    "act_var = np.mean(act_var_lst)\n",
    "\n",
    "print(\"Pred mean variance : \", pred_var)\n",
    "print(\"Actual mean variance : \", act_var)"
   ]
  },
  {
   "cell_type": "markdown",
   "id": "bb8469cc",
   "metadata": {},
   "source": [
    "#### Better variance than the non-augmented model."
   ]
  },
  {
   "cell_type": "markdown",
   "id": "e5b8ef36",
   "metadata": {},
   "source": [
    "### Does the model's predicted score roughly follow the actual scores?"
   ]
  },
  {
   "cell_type": "code",
   "execution_count": 47,
   "id": "66ef2cf7",
   "metadata": {},
   "outputs": [],
   "source": [
    "corr_df_cohesion = pd.DataFrame({'pred_score' : cohesion_pred_lst, 'act_scores' : cohesion_act_lst})\n",
    "corr_df_syntax = pd.DataFrame({'pred_score' : syntax_pred_lst, 'act_scores' : syntax_act_lst})\n",
    "corr_df_vocabulary = pd.DataFrame({'pred_score' : vocabulary_pred_lst, 'act_scores' : vocabulary_act_lst})\n",
    "corr_df_phraseology = pd.DataFrame({'pred_score' : phraseology_pred_lst, 'act_scores' : phraseology_act_lst})\n",
    "corr_df_grammar = pd.DataFrame({'pred_score' : grammar_pred_lst, 'act_scores' : grammar_act_lst})\n",
    "corr_df_conventions = pd.DataFrame({'pred_score' : conventions_pred_lst, 'act_scores' : conventions_act_lst})"
   ]
  },
  {
   "cell_type": "code",
   "execution_count": 48,
   "id": "55291b93",
   "metadata": {},
   "outputs": [
    {
     "data": {
      "text/plain": [
       "Text(0.5, 1.0, 'Cohesion correlation')"
      ]
     },
     "execution_count": 48,
     "metadata": {},
     "output_type": "execute_result"
    },
    {
     "data": {
      "image/png": "[encoded data removed]",
      "text/plain": [
       "<Figure size 640x480 with 2 Axes>"
      ]
     },
     "metadata": {},
     "output_type": "display_data"
    }
   ],
   "source": [
    "import seaborn as sns\n",
    "sns.heatmap(corr_df_cohesion.corr(), annot = True, cmap = \"crest\").set_title(\"Cohesion correlation\")"
   ]
  },
  {
   "cell_type": "code",
   "execution_count": 49,
   "id": "be4e80ec",
   "metadata": {},
   "outputs": [
    {
     "data": {
      "text/plain": [
       "Text(0.5, 1.0, 'Syntax correlation')"
      ]
     },
     "execution_count": 49,
     "metadata": {},
     "output_type": "execute_result"
    },
    {
     "data": {
      "image/png": "[encoded data removed]",
      "text/plain": [
       "<Figure size 640x480 with 2 Axes>"
      ]
     },
     "metadata": {},
     "output_type": "display_data"
    }
   ],
   "source": [
    "sns.heatmap(corr_df_syntax.corr(), annot = True, cmap = \"crest\").set_title(\"Syntax correlation\")"
   ]
  },
  {
   "cell_type": "code",
   "execution_count": 50,
   "id": "efd5b73b",
   "metadata": {},
   "outputs": [
    {
     "data": {
      "text/plain": [
       "Text(0.5, 1.0, 'Vocabulary correlation')"
      ]
     },
     "execution_count": 50,
     "metadata": {},
     "output_type": "execute_result"
    },
    {
     "data": {
      "image/png": "[encoded data removed]",
      "text/plain": [
       "<Figure size 640x480 with 2 Axes>"
      ]
     },
     "metadata": {},
     "output_type": "display_data"
    }
   ],
   "source": [
    "sns.heatmap(corr_df_vocabulary.corr(), annot = True, cmap = \"crest\").set_title(\"Vocabulary correlation\")"
   ]
  },
  {
   "cell_type": "code",
   "execution_count": 51,
   "id": "14a5edb1",
   "metadata": {},
   "outputs": [
    {
     "data": {
      "text/plain": [
       "Text(0.5, 1.0, 'Phraseology correlation')"
      ]
     },
     "execution_count": 51,
     "metadata": {},
     "output_type": "execute_result"
    },
    {
     "data": {
      "image/png": "[encoded data removed]",
      "text/plain": [
       "<Figure size 640x480 with 2 Axes>"
      ]
     },
     "metadata": {},
     "output_type": "display_data"
    }
   ],
   "source": [
    "sns.heatmap(corr_df_phraseology.corr(), annot = True, cmap = \"crest\").set_title(\"Phraseology correlation\")"
   ]
  },
  {
   "cell_type": "code",
   "execution_count": 52,
   "id": "2542ba91",
   "metadata": {},
   "outputs": [
    {
     "data": {
      "text/plain": [
       "Text(0.5, 1.0, 'Grammar correlation')"
      ]
     },
     "execution_count": 52,
     "metadata": {},
     "output_type": "execute_result"
    },
    {
     "data": {
      "image/png": "[encoded data removed]",
      "text/plain": [
       "<Figure size 640x480 with 2 Axes>"
      ]
     },
     "metadata": {},
     "output_type": "display_data"
    }
   ],
   "source": [
    "sns.heatmap(corr_df_grammar.corr(), annot = True, cmap = \"crest\").set_title(\"Grammar correlation\")"
   ]
  },
  {
   "cell_type": "code",
   "execution_count": 53,
   "id": "2b59b6c4",
   "metadata": {},
   "outputs": [
    {
     "data": {
      "text/plain": [
       "Text(0.5, 1.0, 'Conventions correlation')"
      ]
     },
     "execution_count": 53,
     "metadata": {},
     "output_type": "execute_result"
    },
    {
     "data": {
      "image/png": "[encoded data removed]",
      "text/plain": [
       "<Figure size 640x480 with 2 Axes>"
      ]
     },
     "metadata": {},
     "output_type": "display_data"
    }
   ],
   "source": [
    "sns.heatmap(corr_df_conventions.corr(), annot = True, cmap = \"crest\").set_title(\"Conventions correlation\")"
   ]
  },
  {
   "cell_type": "markdown",
   "id": "1dc351c7",
   "metadata": {},
   "source": [
    "#### Despite the really strong correlations, the model seems to perform about the same on the competition dataset. This indicates that the model is starting to overfit on the provided data, and further augmentation would likely reduce it's performance on other data."
   ]
  },
  {
   "cell_type": "markdown",
   "id": "2dce69a2",
   "metadata": {},
   "source": [
    "#### Even with augmentation, this CNN model cannot learn the grammar score correlation well."
   ]
  }
 ],
 "metadata": {
  "kernelspec": {
   "display_name": "Python 3 (ipykernel)",
   "language": "python",
   "name": "python3"
  },
  "language_info": {
   "codemirror_mode": {
    "name": "ipython",
    "version": 3
   },
   "file_extension": ".py",
   "mimetype": "text/x-python",
   "name": "python",
   "nbconvert_exporter": "python",
   "pygments_lexer": "ipython3",
   "version": "3.9.13"
  }
 },
 "nbformat": 4,
 "nbformat_minor": 5
}
