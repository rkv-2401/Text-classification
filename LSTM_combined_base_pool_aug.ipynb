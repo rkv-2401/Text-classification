{
 "cells": [
  {
   "cell_type": "code",
   "execution_count": 1,
   "id": "4c031902",
   "metadata": {},
   "outputs": [],
   "source": [
    "#pip install contractions\n",
    "#pip install spacy-cleaner\n",
    "#pip install spacy - v 3.41"
   ]
  },
  {
   "cell_type": "markdown",
   "id": "a1abf62c",
   "metadata": {},
   "source": [
    "## Start here. "
   ]
  },
  {
   "cell_type": "code",
   "execution_count": 1,
   "id": "d688452b",
   "metadata": {},
   "outputs": [
    {
     "name": "stderr",
     "output_type": "stream",
     "text": [
      "2023-08-03 21:50:13.442810: I tensorflow/core/platform/cpu_feature_guard.cc:193] This TensorFlow binary is optimized with oneAPI Deep Neural Network Library (oneDNN) to use the following CPU instructions in performance-critical operations:  AVX2 FMA\n",
      "To enable them in other operations, rebuild TensorFlow with the appropriate compiler flags.\n",
      "2023-08-03 21:50:14.641050: E tensorflow/stream_executor/cuda/cuda_blas.cc:2981] Unable to register cuBLAS factory: Attempting to register factory for plugin cuBLAS when one has already been registered\n",
      "2023-08-03 21:50:15.954874: W tensorflow/stream_executor/platform/default/dso_loader.cc:64] Could not load dynamic library 'libnvinfer.so.7'; dlerror: libnvinfer.so.7: cannot open shared object file: No such file or directory; LD_LIBRARY_PATH: :/home/rkv/miniconda3/envs/tf/lib/\n",
      "2023-08-03 21:50:15.959229: W tensorflow/stream_executor/platform/default/dso_loader.cc:64] Could not load dynamic library 'libnvinfer_plugin.so.7'; dlerror: libnvinfer_plugin.so.7: cannot open shared object file: No such file or directory; LD_LIBRARY_PATH: :/home/rkv/miniconda3/envs/tf/lib/\n",
      "2023-08-03 21:50:15.959251: W tensorflow/compiler/tf2tensorrt/utils/py_utils.cc:38] TF-TRT Warning: Cannot dlopen some TensorRT libraries. If you would like to use Nvidia GPU with TensorRT, please make sure the missing libraries mentioned above are installed properly.\n",
      "2023-08-03 21:50:17.405606: I tensorflow/stream_executor/cuda/cuda_gpu_executor.cc:966] could not open file to read NUMA node: /sys/bus/pci/devices/0000:01:00.0/numa_node\n",
      "Your kernel may have been built without NUMA support.\n",
      "2023-08-03 21:50:17.416819: I tensorflow/stream_executor/cuda/cuda_gpu_executor.cc:966] could not open file to read NUMA node: /sys/bus/pci/devices/0000:01:00.0/numa_node\n",
      "Your kernel may have been built without NUMA support.\n",
      "2023-08-03 21:50:17.417253: I tensorflow/stream_executor/cuda/cuda_gpu_executor.cc:966] could not open file to read NUMA node: /sys/bus/pci/devices/0000:01:00.0/numa_node\n",
      "Your kernel may have been built without NUMA support.\n"
     ]
    }
   ],
   "source": [
    "import pandas as pd\n",
    "import matplotlib.pyplot as plt\n",
    "import seaborn as sns\n",
    "import contractions\n",
    "import spacy\n",
    "import spacy_cleaner\n",
    "from spacy_cleaner.processing import removers, replacers, mutators"
   ]
  },
  {
   "cell_type": "code",
   "execution_count": 2,
   "id": "c9c4c41d",
   "metadata": {},
   "outputs": [],
   "source": [
    "train_df = pd.read_csv('Data/train.csv')"
   ]
  },
  {
   "cell_type": "code",
   "execution_count": 39,
   "id": "32180449",
   "metadata": {},
   "outputs": [
    {
     "data": {
      "text/html": [
       "<div>\n",
       "<style scoped>\n",
       "    .dataframe tbody tr th:only-of-type {\n",
       "        vertical-align: middle;\n",
       "    }\n",
       "\n",
       "    .dataframe tbody tr th {\n",
       "        vertical-align: top;\n",
       "    }\n",
       "\n",
       "    .dataframe thead th {\n",
       "        text-align: right;\n",
       "    }\n",
       "</style>\n",
       "<table border=\"1\" class=\"dataframe\">\n",
       "  <thead>\n",
       "    <tr style=\"text-align: right;\">\n",
       "      <th></th>\n",
       "      <th>text_id</th>\n",
       "      <th>full_text</th>\n",
       "      <th>cohesion</th>\n",
       "      <th>syntax</th>\n",
       "      <th>vocabulary</th>\n",
       "      <th>phraseology</th>\n",
       "      <th>grammar</th>\n",
       "      <th>conventions</th>\n",
       "    </tr>\n",
       "  </thead>\n",
       "  <tbody>\n",
       "    <tr>\n",
       "      <th>0</th>\n",
       "      <td>0016926B079C</td>\n",
       "      <td>I think that students would benefit from learn...</td>\n",
       "      <td>3.5</td>\n",
       "      <td>3.5</td>\n",
       "      <td>3.0</td>\n",
       "      <td>3.0</td>\n",
       "      <td>4.0</td>\n",
       "      <td>3.0</td>\n",
       "    </tr>\n",
       "    <tr>\n",
       "      <th>1</th>\n",
       "      <td>0022683E9EA5</td>\n",
       "      <td>When a problem is a change you have to let it ...</td>\n",
       "      <td>2.5</td>\n",
       "      <td>2.5</td>\n",
       "      <td>3.0</td>\n",
       "      <td>2.0</td>\n",
       "      <td>2.0</td>\n",
       "      <td>2.5</td>\n",
       "    </tr>\n",
       "    <tr>\n",
       "      <th>2</th>\n",
       "      <td>00299B378633</td>\n",
       "      <td>Dear, Principal\\n\\nIf u change the school poli...</td>\n",
       "      <td>3.0</td>\n",
       "      <td>3.5</td>\n",
       "      <td>3.0</td>\n",
       "      <td>3.0</td>\n",
       "      <td>3.0</td>\n",
       "      <td>2.5</td>\n",
       "    </tr>\n",
       "    <tr>\n",
       "      <th>3</th>\n",
       "      <td>003885A45F42</td>\n",
       "      <td>The best time in life is when you become yours...</td>\n",
       "      <td>4.5</td>\n",
       "      <td>4.5</td>\n",
       "      <td>4.5</td>\n",
       "      <td>4.5</td>\n",
       "      <td>4.0</td>\n",
       "      <td>5.0</td>\n",
       "    </tr>\n",
       "    <tr>\n",
       "      <th>4</th>\n",
       "      <td>0049B1DF5CCC</td>\n",
       "      <td>Small act of kindness can impact in other peop...</td>\n",
       "      <td>2.5</td>\n",
       "      <td>3.0</td>\n",
       "      <td>3.0</td>\n",
       "      <td>3.0</td>\n",
       "      <td>2.5</td>\n",
       "      <td>2.5</td>\n",
       "    </tr>\n",
       "  </tbody>\n",
       "</table>\n",
       "</div>"
      ],
      "text/plain": [
       "        text_id                                          full_text  cohesion  \\\n",
       "0  0016926B079C  I think that students would benefit from learn...       3.5   \n",
       "1  0022683E9EA5  When a problem is a change you have to let it ...       2.5   \n",
       "2  00299B378633  Dear, Principal\\n\\nIf u change the school poli...       3.0   \n",
       "3  003885A45F42  The best time in life is when you become yours...       4.5   \n",
       "4  0049B1DF5CCC  Small act of kindness can impact in other peop...       2.5   \n",
       "\n",
       "   syntax  vocabulary  phraseology  grammar  conventions  \n",
       "0     3.5         3.0          3.0      4.0          3.0  \n",
       "1     2.5         3.0          2.0      2.0          2.5  \n",
       "2     3.5         3.0          3.0      3.0          2.5  \n",
       "3     4.5         4.5          4.5      4.0          5.0  \n",
       "4     3.0         3.0          3.0      2.5          2.5  "
      ]
     },
     "execution_count": 39,
     "metadata": {},
     "output_type": "execute_result"
    }
   ],
   "source": [
    "train_df.head()"
   ]
  },
  {
   "cell_type": "code",
   "execution_count": 40,
   "id": "1263ca70",
   "metadata": {},
   "outputs": [
    {
     "name": "stdout",
     "output_type": "stream",
     "text": [
      " Real time: 0.70 seconds\n",
      " CPU time: 0.70 seconds\n"
     ]
    }
   ],
   "source": [
    "# Quite fast!\n",
    "def more_processing(text):\n",
    "    text = '<sostok> ' + text + ' <eostok>' \n",
    "    text = text.lower()\n",
    "    return text\n",
    "\n",
    "t1 = time.perf_counter(), time.process_time()\n",
    "proc_text = [contractions.fix(text) for text in train_df['full_text']]\n",
    "proc_text_2 = [more_processing(text) for text in proc_text]\n",
    "t2 = time.perf_counter(), time.process_time()\n",
    "print(f\" Real time: {t2[0] - t1[0] :.2f} seconds\")\n",
    "print(f\" CPU time: {t2[1] - t1[1] :.2f} seconds\")"
   ]
  },
  {
   "cell_type": "code",
   "execution_count": 41,
   "id": "99b0159f",
   "metadata": {},
   "outputs": [
    {
     "name": "stderr",
     "output_type": "stream",
     "text": [
      "/home/rkv/miniconda3/envs/tf/lib/python3.9/site-packages/spacy/language.py:1895: UserWarning: [W123] Argument disable with value ['senter', 'parser', 'ner'] is used instead of ['senter'] as specified in the config. Be aware that this might affect other components in your pipeline.\n",
      "  warnings.warn(\n"
     ]
    },
    {
     "name": "stdout",
     "output_type": "stream",
     "text": [
      "['tok2vec', 'tagger', 'attribute_ruler', 'lemmatizer']\n"
     ]
    }
   ],
   "source": [
    "nlp = spacy.load(\"en_core_web_md\", disable=['senter', 'parser', 'ner'])\n",
    "#nlp.enable(\"senter\")\n",
    "print(nlp.pipe_names)\n",
    "\n",
    "pipeline = spacy_cleaner.Pipeline(\n",
    "    nlp,\n",
    "    removers.remove_stopword_token,\n",
    "    removers.remove_punctuation_token,\n",
    "    replacers.replace_number_token,\n",
    "    mutators.mutate_lemma_token,\n",
    ")"
   ]
  },
  {
   "cell_type": "code",
   "execution_count": 42,
   "id": "9f832bd8",
   "metadata": {
    "scrolled": true
   },
   "outputs": [
    {
     "name": "stderr",
     "output_type": "stream",
     "text": [
      "Cleaning Progress: 100%|███████████████████████████████████████████████████████████| 3911/3911 [00:23<00:00, 169.11it/s]\n"
     ]
    }
   ],
   "source": [
    "# Remember to switch n_process to 4 when running on Kaggle.\n",
    "\n",
    "proc_text_3 = pipeline.clean(proc_text_2, n_process = 8, batch_size = 12)\n",
    "# n_process = 4, batch size 12 - 105 it/s : 00:37\n",
    "\n",
    "# n_process = 8, default batch size - takes forever to initialize\n",
    "# n_process = 8, batch size 12 - 141 it/s : 00:27\n",
    "# n_process = 8, batch size 48 - 130 it/s : 00:29\n",
    "\n",
    "# n_process = 12, default batch size - takes forever to initialize\n",
    "# n_process = 12, batch size 12 - 120.3 it/s : 00:29\n",
    "# n_process = 12, batch size 48 - 89.5 it/s : 00:34\n"
   ]
  },
  {
   "cell_type": "code",
   "execution_count": 46,
   "id": "c4279801",
   "metadata": {},
   "outputs": [
    {
     "name": "stdout",
     "output_type": "stream",
     "text": [
      " Real time: 111.34 seconds\n",
      " CPU time: 111.34 seconds\n",
      "\n"
     ]
    }
   ],
   "source": [
    "# Doing it manually\n",
    "import time\n",
    "import re\n",
    "import string\n",
    "from nltk.corpus import stopwords #reduce noise and improve the efficiency\n",
    "\n",
    "#https://stackoverflow.com/questions/19790188/expanding-english-language-contractions-in-python\n",
    "contraction_dict = {\"ain't\": \"is not\", \"aren't\": \"are not\",\"can't\": \"cannot\", \"'cause\": \"because\", \"could've\": \"could have\", \"couldn't\": \"could not\",\n",
    "                        \"didn't\": \"did not\",  \"doesn't\": \"does not\", \"don't\": \"do not\", \"hadn't\": \"had not\", \"hasn't\": \"has not\", \"haven't\": \"have not\",\n",
    "                        \"he'd\": \"he would\",\"he'll\": \"he will\", \"he's\": \"he is\", \"how'd\": \"how did\", \"how'd'y\": \"how do you\", \"how'll\": \"how will\",\n",
    "                        \"how's\": \"how is\",  \"I'd\": \"I would\", \"I'd've\": \"I would have\", \"I'll\": \"I will\", \"I'll've\": \"I will have\",\"I'm\": \"I am\",\n",
    "                        \"I've\": \"I have\", \"i'd\": \"i would\", \"i'd've\": \"i would have\", \"i'll\": \"i will\",  \"i'll've\": \"i will have\",\"i'm\": \"i am\",\n",
    "                        \"i've\": \"i have\", \"isn't\": \"is not\", \"it'd\": \"it would\", \"it'd've\": \"it would have\", \"it'll\": \"it will\", \"it'll've\":\n",
    "                        \"it will have\",\"it's\": \"it is\", \"let's\": \"let us\", \"ma'am\": \"madam\", \"mayn't\": \"may not\", \"might've\": \"might have\",\n",
    "                        \"mightn't\": \"might not\",\"mightn't've\": \"might not have\", \"must've\": \"must have\", \"mustn't\": \"must not\",\n",
    "                        \"mustn't've\": \"must not have\", \"needn't\": \"need not\", \"needn't've\": \"need not have\",\"o'clock\": \"of the clock\",\n",
    "                        \"oughtn't\": \"ought not\", \"oughtn't've\": \"ought not have\", \"shan't\": \"shall not\", \"sha'n't\": \"shall not\",\n",
    "                        \"shan't've\": \"shall not have\", \"she'd\": \"she would\", \"she'd've\": \"she would have\", \"she'll\": \"she will\",\n",
    "                        \"she'll've\": \"she will have\", \"she's\": \"she is\", \"should've\": \"should have\", \"shouldn't\": \"should not\",\n",
    "                        \"shouldn't've\": \"should not have\", \"so've\": \"so have\",\"so's\": \"so as\", \"this's\": \"this is\",\"that'd\": \"that would\", \n",
    "                        \"that'd've\": \"that would have\", \"that's\": \"that is\", \"there'd\": \"there would\", \"there'd've\": \"there would have\",\n",
    "                        \"there's\": \"there is\", \"here's\": \"here is\",\"they'd\": \"they would\", \"they'd've\": \"they would have\", \"they'll\": \"they will\",\n",
    "                        \"they'll've\": \"they will have\", \"they're\": \"they are\", \"they've\": \"they have\", \"to've\": \"to have\", \"wasn't\": \"was not\",\n",
    "                        \"we'd\": \"we would\", \"we'd've\": \"we would have\", \"we'll\": \"we will\", \"we'll've\": \"we will have\", \"we're\": \"we are\", \n",
    "                        \"we've\": \"we have\", \"weren't\": \"were not\", \"what'll\": \"what will\", \"what'll've\": \"what will have\", \"what're\": \"what are\", \n",
    "                        \"what's\": \"what is\", \"what've\": \"what have\", \"when's\": \"when is\", \"when've\": \"when have\", \"where'd\": \"where did\", \n",
    "                        \"where's\": \"where is\", \"where've\": \"where have\", \"who'll\": \"who will\", \"who'll've\": \"who will have\", \"who's\": \"who is\", \n",
    "                        \"who've\": \"who have\", \"why's\": \"why is\", \"why've\": \"why have\", \"will've\": \"will have\", \"won't\": \"will not\", \n",
    "                        \"won't've\": \"will not have\", \"would've\": \"would have\", \"wouldn't\": \"would not\", \"wouldn't've\": \"would not have\",\n",
    "                        \"y'all\": \"you all\", \"y'all'd\": \"you all would\",\"y'all'd've\": \"you all would have\",\"y'all're\": \"you all are\",\n",
    "                        \"y'all've\": \"you all have\",\"you'd\": \"you would\", \"you'd've\": \"you would have\", \"you'll\": \"you will\",\n",
    "                        \"you'll've\": \"you will have\", \"you're\": \"you are\", \"you've\": \"you have\"}\n",
    "\n",
    "#removing contraction\n",
    "def _get_contractions(contraction_dict):\n",
    "    contraction_re = re.compile('(%s)' % '|'.join(contraction_dict.keys()))\n",
    "    return contraction_dict, contraction_re\n",
    "\n",
    "def replace_contractions(text):\n",
    "    text = str(text)\n",
    "    contractions, contractions_re = _get_contractions(contraction_dict)\n",
    "    def replace(match):\n",
    "        return contractions[match.group(0)]\n",
    "    return contractions_re.sub(replace, text)\n",
    "\n",
    "def add_token(text):\n",
    "    text = str(text)\n",
    "    text = 'SOSTOK' + text + 'EOSTOK'\n",
    "    return text\n",
    "#https://towardsdatascience.com/using-deep-learning-for-end-to-end-multiclass-text-classification-39b46aecac81\n",
    "\n",
    "def remove_punct(text):\n",
    "    text = str(text)\n",
    "    cleaned_text = text.translate(str.maketrans('', '', string.punctuation))\n",
    "    return cleaned_text\n",
    "            \n",
    "def clean_text(text): \n",
    "    stop_words = stopwords.words('english')\n",
    "    \n",
    "    text = text.replace(\",\", \" \")\n",
    "   \n",
    "    #Replace contractions\n",
    "    text = replace_contractions(text)\n",
    "    \n",
    "    #Remove punctuations\n",
    "    text = remove_punct(text)\n",
    "    \n",
    "    text = nlp(text)\n",
    "\n",
    "    #Lemmatize text\n",
    "    lemmatized =  [token.lemma_ for token in text if not str(token).isspace()]  \n",
    "    \n",
    "    #Remove stop words\n",
    "    cleaned_text = [word for word in lemmatized if word not in stop_words]\n",
    "    cleaned_text = add_token(cleaned_text)\n",
    "    return cleaned_text\n",
    "\n",
    "def clean_df(df):\n",
    "    for index, row in df.iterrows():\n",
    "        cleaned_text = clean_text(row['full_text'])\n",
    "        df.at[index, 'full_text'] = cleaned_text\n",
    "\n",
    "t1 = time.perf_counter(), time.process_time()\n",
    "clean_df(train_df)\n",
    "t2 = time.perf_counter(), time.process_time()\n",
    "print(f\" Real time: {t2[0] - t1[0] :.2f} seconds\")\n",
    "print(f\" CPU time: {t2[1] - t1[1] :.2f} seconds\")\n",
    "print()"
   ]
  },
  {
   "cell_type": "markdown",
   "id": "253c0879",
   "metadata": {},
   "source": [
    "#### Using SpaCy + the contractions library took 21-23 seconds, while the ordinary pipeline took 112 - 116 seconds.\n",
    "\n",
    "#### The regular pipeline was almost 6x slower!!"
   ]
  },
  {
   "cell_type": "code",
   "execution_count": 47,
   "id": "4a025103",
   "metadata": {
    "scrolled": true
   },
   "outputs": [
    {
     "data": {
      "text/plain": [
       "'< sostok > problem change let good matter happen change mind need wake look problem good way change want change time ago problem change different help understand ting wok different example remember come united states think go change think go change different country realist wrong problem change change way remember shy think change lot problem think thing life need different way let happen rue change want problem example think go change need shy anymore need start see different way mad need know go happened people different way know change good let body change way want change choice problem decide _LIKE_NUM_ help understand thing work instance mom lot problem faith people mom scare high scare high understand mos scare high scare high time mom airplane laugh scare funny different way like high understand hoe thing work people example think mom different understand like high need understand help understand thing work need start thing work person life problem change different help understand different opinion different understand different opinion people think < eostok >'"
      ]
     },
     "execution_count": 47,
     "metadata": {},
     "output_type": "execute_result"
    }
   ],
   "source": [
    "# Contractions mapped, lemmatized, stopwords and punctuations removed, numbers replaced.\n",
    "proc_text_3[1]"
   ]
  },
  {
   "cell_type": "code",
   "execution_count": 48,
   "id": "ad05c031",
   "metadata": {},
   "outputs": [],
   "source": [
    "# Also added start of seq and end of seq, lowercase\n",
    "train_df['cleaned_text'] = proc_text_3"
   ]
  },
  {
   "cell_type": "code",
   "execution_count": 9,
   "id": "23170cfc",
   "metadata": {},
   "outputs": [],
   "source": [
    "train_df.head()\n",
    "train_df.to_csv('processed_data_sostok.csv')"
   ]
  },
  {
   "cell_type": "code",
   "execution_count": 12,
   "id": "fc99e92f",
   "metadata": {},
   "outputs": [],
   "source": [
    "# Move back to the EDA pitlane\n",
    "#import matplotlib.pyplot as plt\n",
    "#text_count = [len(sentence.split()) for sentence in cleaned_df.text]\n",
    "#plt.hist(text_count, bins = 100)"
   ]
  },
  {
   "cell_type": "code",
   "execution_count": 3,
   "id": "24e37674",
   "metadata": {},
   "outputs": [],
   "source": [
    "train_df = pd.read_csv('processed_data_sostok.csv')"
   ]
  },
  {
   "cell_type": "code",
   "execution_count": 13,
   "id": "fd16002f",
   "metadata": {
    "scrolled": true
   },
   "outputs": [
    {
     "name": "stdout",
     "output_type": "stream",
     "text": [
      "23060\n"
     ]
    }
   ],
   "source": [
    "#print(len(nlp.vocab))"
   ]
  },
  {
   "cell_type": "code",
   "execution_count": 3,
   "id": "b61ed966",
   "metadata": {
    "scrolled": true
   },
   "outputs": [
    {
     "data": {
      "text/html": [
       "<div>\n",
       "<style scoped>\n",
       "    .dataframe tbody tr th:only-of-type {\n",
       "        vertical-align: middle;\n",
       "    }\n",
       "\n",
       "    .dataframe tbody tr th {\n",
       "        vertical-align: top;\n",
       "    }\n",
       "\n",
       "    .dataframe thead th {\n",
       "        text-align: right;\n",
       "    }\n",
       "</style>\n",
       "<table border=\"1\" class=\"dataframe\">\n",
       "  <thead>\n",
       "    <tr style=\"text-align: right;\">\n",
       "      <th></th>\n",
       "      <th>Unnamed: 0</th>\n",
       "      <th>text_id</th>\n",
       "      <th>full_text</th>\n",
       "      <th>cohesion</th>\n",
       "      <th>syntax</th>\n",
       "      <th>vocabulary</th>\n",
       "      <th>phraseology</th>\n",
       "      <th>grammar</th>\n",
       "      <th>conventions</th>\n",
       "      <th>cleaned_text</th>\n",
       "    </tr>\n",
       "  </thead>\n",
       "  <tbody>\n",
       "    <tr>\n",
       "      <th>0</th>\n",
       "      <td>0</td>\n",
       "      <td>0016926B079C</td>\n",
       "      <td>I think that students would benefit from learn...</td>\n",
       "      <td>3.5</td>\n",
       "      <td>3.5</td>\n",
       "      <td>3.0</td>\n",
       "      <td>3.0</td>\n",
       "      <td>4.0</td>\n",
       "      <td>3.0</td>\n",
       "      <td>&lt; sostok &gt; think student benefit learn home ch...</td>\n",
       "    </tr>\n",
       "    <tr>\n",
       "      <th>1</th>\n",
       "      <td>1</td>\n",
       "      <td>0022683E9EA5</td>\n",
       "      <td>When a problem is a change you have to let it ...</td>\n",
       "      <td>2.5</td>\n",
       "      <td>2.5</td>\n",
       "      <td>3.0</td>\n",
       "      <td>2.0</td>\n",
       "      <td>2.0</td>\n",
       "      <td>2.5</td>\n",
       "      <td>&lt; sostok &gt; problem change let good matter happ...</td>\n",
       "    </tr>\n",
       "    <tr>\n",
       "      <th>2</th>\n",
       "      <td>2</td>\n",
       "      <td>00299B378633</td>\n",
       "      <td>Dear, Principal\\n\\nIf u change the school poli...</td>\n",
       "      <td>3.0</td>\n",
       "      <td>3.5</td>\n",
       "      <td>3.0</td>\n",
       "      <td>3.0</td>\n",
       "      <td>3.0</td>\n",
       "      <td>2.5</td>\n",
       "      <td>&lt; sostok &gt; dear principal change school policy...</td>\n",
       "    </tr>\n",
       "    <tr>\n",
       "      <th>3</th>\n",
       "      <td>3</td>\n",
       "      <td>003885A45F42</td>\n",
       "      <td>The best time in life is when you become yours...</td>\n",
       "      <td>4.5</td>\n",
       "      <td>4.5</td>\n",
       "      <td>4.5</td>\n",
       "      <td>4.5</td>\n",
       "      <td>4.0</td>\n",
       "      <td>5.0</td>\n",
       "      <td>&lt; sostok &gt; good time life agree great accompli...</td>\n",
       "    </tr>\n",
       "    <tr>\n",
       "      <th>4</th>\n",
       "      <td>4</td>\n",
       "      <td>0049B1DF5CCC</td>\n",
       "      <td>Small act of kindness can impact in other peop...</td>\n",
       "      <td>2.5</td>\n",
       "      <td>3.0</td>\n",
       "      <td>3.0</td>\n",
       "      <td>3.0</td>\n",
       "      <td>2.5</td>\n",
       "      <td>2.5</td>\n",
       "      <td>&lt; sostok &gt; small act kindness impact people ch...</td>\n",
       "    </tr>\n",
       "  </tbody>\n",
       "</table>\n",
       "</div>"
      ],
      "text/plain": [
       "   Unnamed: 0       text_id  \\\n",
       "0           0  0016926B079C   \n",
       "1           1  0022683E9EA5   \n",
       "2           2  00299B378633   \n",
       "3           3  003885A45F42   \n",
       "4           4  0049B1DF5CCC   \n",
       "\n",
       "                                           full_text  cohesion  syntax  \\\n",
       "0  I think that students would benefit from learn...       3.5     3.5   \n",
       "1  When a problem is a change you have to let it ...       2.5     2.5   \n",
       "2  Dear, Principal\\n\\nIf u change the school poli...       3.0     3.5   \n",
       "3  The best time in life is when you become yours...       4.5     4.5   \n",
       "4  Small act of kindness can impact in other peop...       2.5     3.0   \n",
       "\n",
       "   vocabulary  phraseology  grammar  conventions  \\\n",
       "0         3.0          3.0      4.0          3.0   \n",
       "1         3.0          2.0      2.0          2.5   \n",
       "2         3.0          3.0      3.0          2.5   \n",
       "3         4.5          4.5      4.0          5.0   \n",
       "4         3.0          3.0      2.5          2.5   \n",
       "\n",
       "                                        cleaned_text  \n",
       "0  < sostok > think student benefit learn home ch...  \n",
       "1  < sostok > problem change let good matter happ...  \n",
       "2  < sostok > dear principal change school policy...  \n",
       "3  < sostok > good time life agree great accompli...  \n",
       "4  < sostok > small act kindness impact people ch...  "
      ]
     },
     "execution_count": 3,
     "metadata": {},
     "output_type": "execute_result"
    }
   ],
   "source": [
    "train_df.head()"
   ]
  },
  {
   "cell_type": "code",
   "execution_count": 4,
   "id": "3f5c8597",
   "metadata": {},
   "outputs": [],
   "source": [
    "import random\n",
    "from albumentations.core.transforms_interface import DualTransform, BasicTransform\n",
    "from nltk import sent_tokenize\n",
    "class NLPTransform(BasicTransform):\n",
    "    \"\"\" Transform for nlp task.\"\"\"\n",
    "    LANGS = {\n",
    "        'en': 'english',\n",
    "        'it': 'italian', \n",
    "        'fr': 'french', \n",
    "        'es': 'spanish',\n",
    "        'tr': 'turkish', \n",
    "        'ru': 'russian',\n",
    "        'pt': 'portuguese'\n",
    "    }\n",
    "\n",
    "    @property\n",
    "    def targets(self):\n",
    "        return {\"data\": self.apply}\n",
    "    \n",
    "    def update_params(self, params, **kwargs):\n",
    "        if hasattr(self, \"interpolation\"):\n",
    "            params[\"interpolation\"] = self.interpolation\n",
    "        if hasattr(self, \"fill_value\"):\n",
    "            params[\"fill_value\"] = self.fill_value\n",
    "        return params\n",
    "\n",
    "    def get_sentences(self, text, lang='en'):\n",
    "        return sent_tokenize(text, self.LANGS.get(lang, 'english'))"
   ]
  },
  {
   "cell_type": "code",
   "execution_count": 5,
   "id": "69d5ecd7",
   "metadata": {},
   "outputs": [],
   "source": [
    "#trying basic data augmentation: \n",
    "class ShuffleSentencesTransform(NLPTransform):\n",
    "    \"\"\" Do shuffle by sentence \"\"\"\n",
    "    def __init__(self, always_apply=False, p=0.5):\n",
    "        super(ShuffleSentencesTransform, self).__init__(always_apply, p)\n",
    "\n",
    "    def apply(self, data, **params):\n",
    "        text, lang = data\n",
    "        sentences = self.get_sentences(text, lang)\n",
    "        random.shuffle(sentences)\n",
    "        return ' '.join(sentences), lang\n",
    "    \n",
    "#https://www.kaggle.com/code/shonenkov/nlp-albumentations/notebook"
   ]
  },
  {
   "cell_type": "code",
   "execution_count": 6,
   "id": "ef5e175a",
   "metadata": {
    "scrolled": true
   },
   "outputs": [
    {
     "data": {
      "text/plain": [
       "'< sostok > problem change let good matter happen change mind need wake look problem good way change want change time ago problem change different help understand ting wok different example remember come united states think go change think go change different country realist wrong problem change change way remember shy think change lot problem think thing life need different way let happen rue change want problem example think go change need shy anymore need start see different way mad need know go happen people different way know change good let body change way want change choice problem decide _LIKE_NUM_ help understand thing work instance mom lot problem faith people mom scare high scare high understand mos scare high scare high time mom airplane laugh scare funny different way like high understand hoe thing work people example think mom different understand like high need understand help understand thing work need start thing work person life problem change different help understand different opinion different understand different opinion people think < eostok >'"
      ]
     },
     "execution_count": 6,
     "metadata": {},
     "output_type": "execute_result"
    }
   ],
   "source": [
    "transform = ShuffleSentencesTransform(p=1.0)\n",
    "transformed_list = []\n",
    "\n",
    "for iter in train_df['cleaned_text']:\n",
    "    text = iter\n",
    "    lang = 'en'\n",
    "    temp_text = transform(data=(text, lang))['data'][0]\n",
    "    transformed_list.append(temp_text)\n",
    "transformed_list[1]"
   ]
  },
  {
   "cell_type": "code",
   "execution_count": 7,
   "id": "4f527b6b",
   "metadata": {},
   "outputs": [
    {
     "data": {
      "text/plain": [
       "'< sostok > problem change let good matter happen change mind need wake look problem good way change want change time ago problem change different help understand ting wok different example remember come united states think go change think go change different country realist wrong problem change change way remember shy think change lot problem think thing life need different way let happen rue change want problem example think go change need shy anymore need start see different way mad need know go happen people different way know change good let body change way want change choice problem decide _LIKE_NUM_ help understand thing work instance mom lot problem faith people mom scare high scare high understand mos scare high scare high time mom airplane laugh scare funny different way like high understand hoe thing work people example think mom different understand like high need understand help understand thing work need start thing work person life problem change different help understand different opinion different understand different opinion people think < eostok >'"
      ]
     },
     "execution_count": 7,
     "metadata": {},
     "output_type": "execute_result"
    }
   ],
   "source": [
    "train_df['cleaned_text'][1]"
   ]
  },
  {
   "cell_type": "markdown",
   "id": "1bef9c16",
   "metadata": {},
   "source": [
    "#### Order has not changed"
   ]
  },
  {
   "cell_type": "code",
   "execution_count": 8,
   "id": "fd34f7bc",
   "metadata": {},
   "outputs": [],
   "source": [
    "aug_df = train_df.copy()\n",
    "aug_df['cleaned_text'] = transformed_list"
   ]
  },
  {
   "cell_type": "code",
   "execution_count": 9,
   "id": "ff92b446",
   "metadata": {},
   "outputs": [
    {
     "data": {
      "text/html": [
       "<div>\n",
       "<style scoped>\n",
       "    .dataframe tbody tr th:only-of-type {\n",
       "        vertical-align: middle;\n",
       "    }\n",
       "\n",
       "    .dataframe tbody tr th {\n",
       "        vertical-align: top;\n",
       "    }\n",
       "\n",
       "    .dataframe thead th {\n",
       "        text-align: right;\n",
       "    }\n",
       "</style>\n",
       "<table border=\"1\" class=\"dataframe\">\n",
       "  <thead>\n",
       "    <tr style=\"text-align: right;\">\n",
       "      <th></th>\n",
       "      <th>Unnamed: 0</th>\n",
       "      <th>text_id</th>\n",
       "      <th>full_text</th>\n",
       "      <th>cohesion</th>\n",
       "      <th>syntax</th>\n",
       "      <th>vocabulary</th>\n",
       "      <th>phraseology</th>\n",
       "      <th>grammar</th>\n",
       "      <th>conventions</th>\n",
       "      <th>cleaned_text</th>\n",
       "    </tr>\n",
       "  </thead>\n",
       "  <tbody>\n",
       "    <tr>\n",
       "      <th>7817</th>\n",
       "      <td>3906</td>\n",
       "      <td>FFD29828A873</td>\n",
       "      <td>I believe using cellphones in class for educat...</td>\n",
       "      <td>2.5</td>\n",
       "      <td>3.0</td>\n",
       "      <td>3.0</td>\n",
       "      <td>3.5</td>\n",
       "      <td>2.5</td>\n",
       "      <td>2.5</td>\n",
       "      <td>&lt; sostok &gt; believe cellphone class education g...</td>\n",
       "    </tr>\n",
       "    <tr>\n",
       "      <th>7818</th>\n",
       "      <td>3907</td>\n",
       "      <td>FFD9A83B0849</td>\n",
       "      <td>Working alone, students do not have to argue w...</td>\n",
       "      <td>4.0</td>\n",
       "      <td>4.0</td>\n",
       "      <td>4.0</td>\n",
       "      <td>4.0</td>\n",
       "      <td>3.5</td>\n",
       "      <td>3.0</td>\n",
       "      <td>&lt; sostok &gt; work student argue decission proyec...</td>\n",
       "    </tr>\n",
       "    <tr>\n",
       "      <th>7819</th>\n",
       "      <td>3908</td>\n",
       "      <td>FFDC4011AC9C</td>\n",
       "      <td>\"A problem is a chance for you to do your best...</td>\n",
       "      <td>2.5</td>\n",
       "      <td>3.0</td>\n",
       "      <td>3.0</td>\n",
       "      <td>3.0</td>\n",
       "      <td>3.5</td>\n",
       "      <td>3.0</td>\n",
       "      <td>&lt; sostok &gt; problem chance good think quote goo...</td>\n",
       "    </tr>\n",
       "    <tr>\n",
       "      <th>7820</th>\n",
       "      <td>3909</td>\n",
       "      <td>FFE16D704B16</td>\n",
       "      <td>Many people disagree with Albert Schweitzer's ...</td>\n",
       "      <td>4.0</td>\n",
       "      <td>4.5</td>\n",
       "      <td>4.5</td>\n",
       "      <td>4.0</td>\n",
       "      <td>4.5</td>\n",
       "      <td>4.5</td>\n",
       "      <td>&lt; sostok &gt; people disagree albert schweitzer q...</td>\n",
       "    </tr>\n",
       "    <tr>\n",
       "      <th>7821</th>\n",
       "      <td>3910</td>\n",
       "      <td>FFED00D6E0BD</td>\n",
       "      <td>Do you think that failure is the main thing fo...</td>\n",
       "      <td>3.5</td>\n",
       "      <td>2.5</td>\n",
       "      <td>3.5</td>\n",
       "      <td>3.0</td>\n",
       "      <td>3.0</td>\n",
       "      <td>3.5</td>\n",
       "      <td>&lt; sostok &gt; think failure main thing people con...</td>\n",
       "    </tr>\n",
       "  </tbody>\n",
       "</table>\n",
       "</div>"
      ],
      "text/plain": [
       "      Unnamed: 0       text_id  \\\n",
       "7817        3906  FFD29828A873   \n",
       "7818        3907  FFD9A83B0849   \n",
       "7819        3908  FFDC4011AC9C   \n",
       "7820        3909  FFE16D704B16   \n",
       "7821        3910  FFED00D6E0BD   \n",
       "\n",
       "                                              full_text  cohesion  syntax  \\\n",
       "7817  I believe using cellphones in class for educat...       2.5     3.0   \n",
       "7818  Working alone, students do not have to argue w...       4.0     4.0   \n",
       "7819  \"A problem is a chance for you to do your best...       2.5     3.0   \n",
       "7820  Many people disagree with Albert Schweitzer's ...       4.0     4.5   \n",
       "7821  Do you think that failure is the main thing fo...       3.5     2.5   \n",
       "\n",
       "      vocabulary  phraseology  grammar  conventions  \\\n",
       "7817         3.0          3.5      2.5          2.5   \n",
       "7818         4.0          4.0      3.5          3.0   \n",
       "7819         3.0          3.0      3.5          3.0   \n",
       "7820         4.5          4.0      4.5          4.5   \n",
       "7821         3.5          3.0      3.0          3.5   \n",
       "\n",
       "                                           cleaned_text  \n",
       "7817  < sostok > believe cellphone class education g...  \n",
       "7818  < sostok > work student argue decission proyec...  \n",
       "7819  < sostok > problem chance good think quote goo...  \n",
       "7820  < sostok > people disagree albert schweitzer q...  \n",
       "7821  < sostok > think failure main thing people con...  "
      ]
     },
     "execution_count": 9,
     "metadata": {},
     "output_type": "execute_result"
    }
   ],
   "source": [
    "extended_dataset = pd.concat([train_df, aug_df], keys = 'text_id', ignore_index = True)\n",
    "extended_dataset.tail()"
   ]
  },
  {
   "cell_type": "code",
   "execution_count": 10,
   "id": "e0305d8a",
   "metadata": {},
   "outputs": [],
   "source": [
    "# rare word analysis\n",
    "def get_rare_word_percent(tokenizer, threshold):\n",
    "    # threshold: if the word's occurrence is less than this then it's rare word\n",
    "\n",
    "    count = 0\n",
    "    total_count = 0\n",
    "    frequency = 0\n",
    "    total_frequency = 0\n",
    "    rare_words = []\n",
    "\n",
    "    for key, value in tokenizer.word_counts.items():\n",
    "        total_count += 1\n",
    "        total_frequency += value\n",
    "        if value < threshold:\n",
    "            rare_words.append({key, value})\n",
    "            count += 1\n",
    "            frequency += value\n",
    "    print({\n",
    "        'percent': round((count / total_count) * 100, 2),\n",
    "        'total_coverage': round(frequency / total_frequency * 100, 2),\n",
    "        'count': count,\n",
    "        'total_count': total_count\n",
    "        })\n",
    "\n",
    "    return rare_words"
   ]
  },
  {
   "cell_type": "code",
   "execution_count": 11,
   "id": "4ba99b37",
   "metadata": {},
   "outputs": [
    {
     "name": "stdout",
     "output_type": "stream",
     "text": [
      "{'percent': 52.11, 'total_coverage': 1.39, 'count': 9056, 'total_count': 17377}\n"
     ]
    }
   ],
   "source": [
    "# This is a different tokenizer to the one built into SpaCy\n",
    "from tensorflow.keras.preprocessing.text import Tokenizer\n",
    "x_tokenizer = Tokenizer()\n",
    "x_tokenizer.fit_on_texts(extended_dataset['cleaned_text'])\n",
    "\n",
    "rare_words = get_rare_word_percent(x_tokenizer, 4)\n",
    "#print(rare_words)"
   ]
  },
  {
   "cell_type": "code",
   "execution_count": 16,
   "id": "62df396b",
   "metadata": {},
   "outputs": [],
   "source": [
    "#rare_words[:100]\n",
    "#mostly typos in otherwise normal"
   ]
  },
  {
   "cell_type": "code",
   "execution_count": 12,
   "id": "52b28c62",
   "metadata": {},
   "outputs": [
    {
     "name": "stdout",
     "output_type": "stream",
     "text": [
      "{'percent': 49.91, 'total_coverage': 0.66, 'count': 11065, 'total_count': 22169}\n"
     ]
    }
   ],
   "source": [
    "org_tokenizer = Tokenizer()\n",
    "org_tokenizer.fit_on_texts(extended_dataset['full_text'])\n",
    "\n",
    "rare_words_2 = get_rare_word_percent(org_tokenizer, 4)\n",
    "#print(rare_words)"
   ]
  },
  {
   "cell_type": "code",
   "execution_count": 7,
   "id": "3dd049e8",
   "metadata": {},
   "outputs": [],
   "source": [
    "#print(rare_words_2[:100])\n",
    "#typos exist in original sentences too."
   ]
  },
  {
   "cell_type": "code",
   "execution_count": 19,
   "id": "5385efc9",
   "metadata": {},
   "outputs": [],
   "source": [
    "# handle y one at a time first. Eventually, feature cross"
   ]
  },
  {
   "cell_type": "markdown",
   "id": "e15a2835",
   "metadata": {},
   "source": [
    "## y - multi output"
   ]
  },
  {
   "cell_type": "code",
   "execution_count": 13,
   "id": "0f30da01",
   "metadata": {},
   "outputs": [],
   "source": [
    "import numpy as np\n",
    "from sklearn.model_selection import train_test_split\n",
    "x_train, x_val, y_train, y_val = train_test_split(np.array(extended_dataset['cleaned_text']), np.array(extended_dataset[['cohesion', 'syntax', 'vocabulary',\n",
    "                                                                                  'phraseology', 'grammar', 'conventions']]), test_size = 0.05, random_state = 0, shuffle = True)"
   ]
  },
  {
   "cell_type": "code",
   "execution_count": 14,
   "id": "7e6fd278",
   "metadata": {},
   "outputs": [
    {
     "data": {
      "text/plain": [
       "'< sostok > good idea student identify career time enter high school think future importance decide career student want leave high school prevent confuse enter university example student mechanic course course doctor high school help experiment career like high school student decide experiment nurse doctor central medic hospital information career mechanic workshop learn knowledge mechanic good idea student think career young age try prepare future course study high school teenager try found career agreeable try learn good form prepare future opportunity learn different course high school easy student decide specific career like want learn study high school hand specific course high school select student decide course like enjoy time try well good manner student good grade < eostok >'"
      ]
     },
     "execution_count": 14,
     "metadata": {},
     "output_type": "execute_result"
    }
   ],
   "source": [
    "x_val[1]"
   ]
  },
  {
   "cell_type": "code",
   "execution_count": 8,
   "id": "5ccdcff9",
   "metadata": {},
   "outputs": [
    {
     "data": {
      "text/plain": [
       "array([[4. , 3.5, 3.5, 3.5, 3. , 3.5],\n",
       "       [3. , 3.5, 3.5, 3.5, 3.5, 3. ],\n",
       "       [4. , 4. , 4. , 3.5, 4.5, 4.5],\n",
       "       [2.5, 3. , 3.5, 3.5, 3.5, 3. ],\n",
       "       [3. , 3. , 4. , 3. , 4. , 4. ]])"
      ]
     },
     "execution_count": 8,
     "metadata": {},
     "output_type": "execute_result"
    }
   ],
   "source": [
    "test = np.array(y_val)\n",
    "test[:5]"
   ]
  },
  {
   "cell_type": "code",
   "execution_count": 15,
   "id": "93462e17",
   "metadata": {},
   "outputs": [
    {
     "name": "stdout",
     "output_type": "stream",
     "text": [
      "1.0\n"
     ]
    }
   ],
   "source": [
    "# To check how many rows in a column has length (of the text) <= limit\n",
    "def get_word_percent(column, limit):\n",
    "    count = 0\n",
    "    for sentence in column:\n",
    "        if len(sentence.split()) <= limit:\n",
    "            count += 1\n",
    "\n",
    "    return round(count / len(column), 2)\n",
    "\n",
    "\n",
    "# Check how many % of headlines have 0-430 words\n",
    "print(get_word_percent(train_df.cleaned_text, 430))"
   ]
  },
  {
   "cell_type": "code",
   "execution_count": 16,
   "id": "5c1746af",
   "metadata": {},
   "outputs": [],
   "source": [
    "max_text_len = 450"
   ]
  },
  {
   "cell_type": "markdown",
   "id": "e226fefc",
   "metadata": {},
   "source": [
    "## ^This is all that's needed to run the models. Good luck! "
   ]
  },
  {
   "cell_type": "markdown",
   "id": "35716b45",
   "metadata": {},
   "source": [
    "## Embedding matrix for Neural Nets\n",
    "#### P.S. Following is not needed for the normal classification models."
   ]
  },
  {
   "cell_type": "code",
   "execution_count": 17,
   "id": "73b16756",
   "metadata": {
    "scrolled": true
   },
   "outputs": [
    {
     "name": "stdout",
     "output_type": "stream",
     "text": [
      "17378\n",
      "(7430, 450)\n",
      "(7430, 6)\n",
      "(392, 450)\n",
      "(392, 6)\n"
     ]
    }
   ],
   "source": [
    "from tensorflow.keras.preprocessing.sequence import pad_sequences\n",
    "max_text_len = 450\n",
    "x_train_sequence = x_tokenizer.texts_to_sequences(x_train)\n",
    "x_val_sequence = x_tokenizer.texts_to_sequences(x_val)\n",
    "\n",
    "# padding upto max_text_len\n",
    "x_train_padded = pad_sequences(x_train_sequence, maxlen=max_text_len, padding='pre')\n",
    "x_val_padded = pad_sequences(x_val_sequence, maxlen=max_text_len, padding='pre')\n",
    "\n",
    "x_vocab_size = len(x_tokenizer.word_index) + 1\n",
    "\n",
    "print(x_vocab_size)\n",
    "\n",
    "print(x_train_padded.shape)\n",
    "print(y_train.shape)\n",
    "print(x_val_padded.shape)\n",
    "print(y_val.shape)"
   ]
  },
  {
   "cell_type": "code",
   "execution_count": 18,
   "id": "20b9d330",
   "metadata": {},
   "outputs": [
    {
     "name": "stdout",
     "output_type": "stream",
     "text": [
      "Found 400000 word vectors.\n",
      "Converted 10090 words (7287 misses)\n"
     ]
    }
   ],
   "source": [
    "def get_embedding_matrix(tokenizer, embedding_dim, vocab_size=None):\n",
    "    word_index = tokenizer.word_index\n",
    "    voc = list(word_index.keys())\n",
    "\n",
    "    path_to_glove_file = 'glove.6B.50d.txt'\n",
    "\n",
    "    embeddings_index = {}\n",
    "    with open(path_to_glove_file) as f:\n",
    "        for line in f:\n",
    "            word, coefs = line.split(maxsplit=1)\n",
    "            coefs = np.fromstring(coefs, \"f\", sep=\" \")\n",
    "            embeddings_index[word] = coefs\n",
    "\n",
    "    print(\"Found %s word vectors.\" % len(embeddings_index))\n",
    "\n",
    "    num_tokens = len(voc) + 2 if not vocab_size else vocab_size\n",
    "    hits = 0\n",
    "    misses = 0\n",
    "\n",
    "    # Prepare embedding matrix\n",
    "    embedding_matrix = np.zeros((num_tokens, embedding_dim))\n",
    "    for word, i in word_index.items():\n",
    "        embedding_vector = embeddings_index.get(word)\n",
    "        if embedding_vector is not None:\n",
    "            # Words not found in embedding index will be all-zeros.\n",
    "            # This includes the representation for \"padding\" and \"OOV\"\n",
    "            embedding_matrix[i] = embedding_vector\n",
    "            #print(\"Word, i : \", word, i)\n",
    "            hits += 1\n",
    "        else:\n",
    "            misses += 1\n",
    "    print(\"Converted %d words (%d misses)\" % (hits, misses))\n",
    "\n",
    "    return embedding_matrix\n",
    "\n",
    "embedding_dim = 50\n",
    "x_embedding_matrix = get_embedding_matrix(x_tokenizer, embedding_dim, x_vocab_size)"
   ]
  },
  {
   "cell_type": "code",
   "execution_count": 13,
   "id": "5847c399",
   "metadata": {},
   "outputs": [],
   "source": [
    "#embedding_dim = 50\n",
    "\n",
    "#x_embedding_matrix = get_embedding_matrix(x_tokenizer, embedding_dim, x_vocab_size)"
   ]
  },
  {
   "cell_type": "code",
   "execution_count": 19,
   "id": "2cef3c3d",
   "metadata": {},
   "outputs": [
    {
     "data": {
      "text/plain": [
       "(17378, 50)"
      ]
     },
     "execution_count": 19,
     "metadata": {},
     "output_type": "execute_result"
    }
   ],
   "source": [
    "x_embedding_matrix.shape"
   ]
  },
  {
   "cell_type": "code",
   "execution_count": 20,
   "id": "f7f02c5e",
   "metadata": {},
   "outputs": [
    {
     "data": {
      "text/plain": [
       "array([ 0.95280999, -0.20608   ,  0.55618   , -0.46323001,  0.73354   ,\n",
       "        0.029137  , -0.19367   , -0.090066  , -0.22958   , -0.19058   ,\n",
       "       -0.34856999, -1.02310002,  0.74299997, -0.54890001,  0.88484001,\n",
       "       -0.14050999,  0.0040139 ,  0.58447999,  0.10767   , -0.44657001,\n",
       "       -0.43204999,  0.98680001,  0.78288001,  0.51512998,  0.85788   ,\n",
       "       -1.77129996, -0.88259   , -0.59728003,  0.084934  , -0.48111999,\n",
       "        3.9677999 ,  0.88929999, -0.27063999, -0.44093999, -0.26212999,\n",
       "        0.085597  ,  0.022099  , -0.58376002,  0.10908   ,  0.77973002,\n",
       "       -0.95446998,  0.40482   ,  0.89410001,  0.65250999,  0.39858001,\n",
       "        0.20884   , -1.32809997, -0.10882   , -0.22822   , -0.46303001])"
      ]
     },
     "execution_count": 20,
     "metadata": {},
     "output_type": "execute_result"
    }
   ],
   "source": [
    "x_embedding_matrix[2]"
   ]
  },
  {
   "cell_type": "code",
   "execution_count": 21,
   "id": "cdd99e43",
   "metadata": {},
   "outputs": [],
   "source": [
    "#root mean squared error\n",
    "from keras import backend as K \n",
    "def root_mean_squared_error(y):\n",
    "    y_true = y[0]\n",
    "    y_pred = y[1]\n",
    "    return K.sqrt(K.mean(K.square(y_pred - y_true))) \n",
    "\n",
    "#tensor containing the RMSE for each column.\n",
    "def mean_columnwise_root_mean_squared_error(y_true, y_pred):\n",
    "    all_rmse = tf.map_fn(root_mean_squared_error, (y_true, y_pred), dtype=tf.float32)\n",
    "    return K.mean(all_rmse)    "
   ]
  },
  {
   "cell_type": "code",
   "execution_count": 22,
   "id": "b7caef29",
   "metadata": {
    "scrolled": true
   },
   "outputs": [
    {
     "name": "stderr",
     "output_type": "stream",
     "text": [
      "2023-08-03 21:53:23.651563: I tensorflow/core/platform/cpu_feature_guard.cc:193] This TensorFlow binary is optimized with oneAPI Deep Neural Network Library (oneDNN) to use the following CPU instructions in performance-critical operations:  AVX2 FMA\n",
      "To enable them in other operations, rebuild TensorFlow with the appropriate compiler flags.\n",
      "2023-08-03 21:53:23.655935: I tensorflow/stream_executor/cuda/cuda_gpu_executor.cc:966] could not open file to read NUMA node: /sys/bus/pci/devices/0000:01:00.0/numa_node\n",
      "Your kernel may have been built without NUMA support.\n",
      "2023-08-03 21:53:23.656773: I tensorflow/stream_executor/cuda/cuda_gpu_executor.cc:966] could not open file to read NUMA node: /sys/bus/pci/devices/0000:01:00.0/numa_node\n",
      "Your kernel may have been built without NUMA support.\n",
      "2023-08-03 21:53:23.657219: I tensorflow/stream_executor/cuda/cuda_gpu_executor.cc:966] could not open file to read NUMA node: /sys/bus/pci/devices/0000:01:00.0/numa_node\n",
      "Your kernel may have been built without NUMA support.\n",
      "2023-08-03 21:53:29.439248: I tensorflow/stream_executor/cuda/cuda_gpu_executor.cc:966] could not open file to read NUMA node: /sys/bus/pci/devices/0000:01:00.0/numa_node\n",
      "Your kernel may have been built without NUMA support.\n",
      "2023-08-03 21:53:29.440061: I tensorflow/stream_executor/cuda/cuda_gpu_executor.cc:966] could not open file to read NUMA node: /sys/bus/pci/devices/0000:01:00.0/numa_node\n",
      "Your kernel may have been built without NUMA support.\n",
      "2023-08-03 21:53:29.440099: I tensorflow/core/common_runtime/gpu/gpu_device.cc:1700] Could not identify NUMA node of platform GPU id 0, defaulting to 0.  Your kernel may not have been built with NUMA support.\n",
      "2023-08-03 21:53:29.440579: I tensorflow/stream_executor/cuda/cuda_gpu_executor.cc:966] could not open file to read NUMA node: /sys/bus/pci/devices/0000:01:00.0/numa_node\n",
      "Your kernel may have been built without NUMA support.\n",
      "2023-08-03 21:53:29.441647: I tensorflow/core/common_runtime/gpu/gpu_device.cc:1616] Created device /job:localhost/replica:0/task:0/device:GPU:0 with 3527 MB memory:  -> device: 0, name: NVIDIA GeForce GTX 1660 Ti, pci bus id: 0000:01:00.0, compute capability: 7.5\n"
     ]
    },
    {
     "name": "stdout",
     "output_type": "stream",
     "text": [
      "Model: \"model\"\n",
      "_________________________________________________________________\n",
      " Layer (type)                Output Shape              Param #   \n",
      "=================================================================\n",
      " input_1 (InputLayer)        [(None, 450)]             0         \n",
      "                                                                 \n",
      " embedding (Embedding)       (None, 450, 50)           868900    \n",
      "                                                                 \n",
      " lstm (LSTM)                 (None, 450, 128)          91648     \n",
      "                                                                 \n",
      " global_average_pooling1d (G  (None, 128)              0         \n",
      " lobalAveragePooling1D)                                          \n",
      "                                                                 \n",
      " dropout (Dropout)           (None, 128)               0         \n",
      "                                                                 \n",
      " dense (Dense)               (None, 6)                 774       \n",
      "                                                                 \n",
      "=================================================================\n",
      "Total params: 961,322\n",
      "Trainable params: 92,422\n",
      "Non-trainable params: 868,900\n",
      "_________________________________________________________________\n"
     ]
    }
   ],
   "source": [
    "from tensorflow.keras import backend as backend\n",
    "from tensorflow.keras.models import Model\n",
    "from tensorflow.keras.layers import LSTM, Dense, Embedding, Input, dot, Dropout, MaxPooling1D, GlobalAveragePooling1D\n",
    "import tensorflow as tf\n",
    "backend.clear_session()\n",
    "# Prepare the deep learning model\n",
    "input_dim = len(x_train_padded[0])\n",
    "input_layer = Input(shape=(input_dim,))\n",
    "embedding_layer = Embedding(input_dim = x_vocab_size, \n",
    "                    output_dim = embedding_dim, \n",
    "                    embeddings_initializer = tf.keras.initializers.Constant(x_embedding_matrix),\n",
    "                    input_length=max_text_len, trainable = False, mask_zero = True)(input_layer)\n",
    "lstm_layer = LSTM(units=128, return_sequences = True)(embedding_layer)\n",
    "\n",
    "# Return sequences - false -> normal Dense, only fully connected to one layer\n",
    "# Return sequences - true -> time distributed Dense, fully connected to all previous layers.\n",
    "\n",
    "# Custom Attention Layer\n",
    "#attention_weights = dot([lstm_layer, lstm_layer], axes=[2, 2])\n",
    "#attention_weights = Dense(units=input_dim, activation='softmax')(attention_weights)\n",
    "#context_vector = dot([attention_weights, lstm_layer], axes=[2, 1])\n",
    "#attention_output = LSTM(units=256)(context_vector)\n",
    "\n",
    "# One dense layer - trying it out - made things worse with 256 units\n",
    "#still bad with 64 units, maybe reLU activation is terrible -absolutely awful results though\n",
    "\n",
    "# Temporal averaging - because attention not used here\n",
    "pooling_layer = GlobalAveragePooling1D()(lstm_layer)\n",
    "\n",
    "# Max pooling\n",
    "# max_pool_1d = MaxPooling1D(pooling_layer)\n",
    "\n",
    "# Dropout\n",
    "dropout_1 = Dropout(0.3)(pooling_layer)\n",
    "\n",
    "\n",
    "output_layer = Dense(units=6, activation='linear')(dropout_1)\n",
    "\n",
    "model = Model(inputs=input_layer, outputs=output_layer)\n",
    "optimizer_obj = tf.keras.optimizers.Adam(learning_rate=0.001)\n",
    "model.compile(optimizer=optimizer_obj, loss=mean_columnwise_root_mean_squared_error)\n",
    "model.summary()"
   ]
  },
  {
   "cell_type": "code",
   "execution_count": 23,
   "id": "7d11c242",
   "metadata": {},
   "outputs": [],
   "source": [
    "from tensorflow.keras.callbacks import EarlyStopping\n",
    "from tensorflow.keras.callbacks import ReduceLROnPlateau\n",
    "callbacks = [\n",
    "    EarlyStopping(monitor='val_loss',\n",
    "                  mode='min', verbose=1, patience=3, min_delta = 0.002),\n",
    "    ReduceLROnPlateau(monitor='val_loss', factor=0.1, patience=1, min_lr=0.000001, verbose=1),\n",
    "]"
   ]
  },
  {
   "cell_type": "code",
   "execution_count": 24,
   "id": "2c7a600e",
   "metadata": {
    "scrolled": true
   },
   "outputs": [
    {
     "name": "stdout",
     "output_type": "stream",
     "text": [
      "Epoch 1/20\n",
      "WARNING:tensorflow:From /home/rkv/miniconda3/envs/tf/lib/python3.9/site-packages/tensorflow/python/util/deprecation.py:629: calling map_fn_v2 (from tensorflow.python.ops.map_fn) with dtype is deprecated and will be removed in a future version.\n",
      "Instructions for updating:\n",
      "Use fn_output_signature instead\n",
      "117/117 [==============================] - 361s 3s/step - loss: 0.8415 - val_loss: 0.5783 - lr: 0.0010\n",
      "Epoch 2/20\n",
      "117/117 [==============================] - 328s 3s/step - loss: 0.6466 - val_loss: 0.5571 - lr: 0.0010\n",
      "Epoch 3/20\n",
      "117/117 [==============================] - 336s 3s/step - loss: 0.6181 - val_loss: 0.5556 - lr: 0.0010\n",
      "Epoch 4/20\n",
      "117/117 [==============================] - 387s 3s/step - loss: 0.6004 - val_loss: 0.5446 - lr: 0.0010\n",
      "Epoch 5/20\n",
      "117/117 [==============================] - ETA: 0s - loss: 0.5919\n",
      "Epoch 5: ReduceLROnPlateau reducing learning rate to 0.00010000000474974513.\n",
      "117/117 [==============================] - 391s 3s/step - loss: 0.5919 - val_loss: 0.5447 - lr: 0.0010\n",
      "Epoch 6/20\n",
      "117/117 [==============================] - 348s 3s/step - loss: 0.5812 - val_loss: 0.5417 - lr: 1.0000e-04\n",
      "Epoch 7/20\n",
      "117/117 [==============================] - 337s 3s/step - loss: 0.5758 - val_loss: 0.5399 - lr: 1.0000e-04\n",
      "Epoch 8/20\n",
      "117/117 [==============================] - 340s 3s/step - loss: 0.5742 - val_loss: 0.5355 - lr: 1.0000e-04\n",
      "Epoch 9/20\n",
      "117/117 [==============================] - 333s 3s/step - loss: 0.5719 - val_loss: 0.5336 - lr: 1.0000e-04\n",
      "Epoch 10/20\n",
      "117/117 [==============================] - 337s 3s/step - loss: 0.5708 - val_loss: 0.5333 - lr: 1.0000e-04\n",
      "Epoch 11/20\n",
      "117/117 [==============================] - 333s 3s/step - loss: 0.5693 - val_loss: 0.5328 - lr: 1.0000e-04\n",
      "Epoch 12/20\n",
      "117/117 [==============================] - 341s 3s/step - loss: 0.5647 - val_loss: 0.5321 - lr: 1.0000e-04\n",
      "Epoch 13/20\n",
      "117/117 [==============================] - 337s 3s/step - loss: 0.5653 - val_loss: 0.5306 - lr: 1.0000e-04\n",
      "Epoch 14/20\n",
      "117/117 [==============================] - ETA: 0s - loss: 0.5635\n",
      "Epoch 14: ReduceLROnPlateau reducing learning rate to 1.0000000474974514e-05.\n",
      "117/117 [==============================] - 339s 3s/step - loss: 0.5635 - val_loss: 0.5316 - lr: 1.0000e-04\n",
      "Epoch 15/20\n",
      "117/117 [==============================] - ETA: 0s - loss: 0.5616\n",
      "Epoch 15: ReduceLROnPlateau reducing learning rate to 1.0000000656873453e-06.\n",
      "117/117 [==============================] - 336s 3s/step - loss: 0.5616 - val_loss: 0.5309 - lr: 1.0000e-05\n",
      "Epoch 16/20\n",
      "117/117 [==============================] - ETA: 0s - loss: 0.5602\n",
      "Epoch 16: ReduceLROnPlateau reducing learning rate to 1e-06.\n",
      "117/117 [==============================] - 338s 3s/step - loss: 0.5602 - val_loss: 0.5308 - lr: 1.0000e-06\n",
      "Epoch 16: early stopping\n"
     ]
    }
   ],
   "source": [
    "history = model.fit(x_train_padded, y_train, epochs=20, validation_data=(x_val_padded, y_val), batch_size = 64, callbacks = callbacks)"
   ]
  },
  {
   "cell_type": "code",
   "execution_count": 25,
   "id": "ff303596",
   "metadata": {},
   "outputs": [
    {
     "data": {
      "image/png": "[encoded data removed]",
      "text/plain": [
       "<Figure size 640x480 with 1 Axes>"
      ]
     },
     "metadata": {},
     "output_type": "display_data"
    },
    {
     "data": {
      "text/plain": [
       "<Figure size 640x480 with 0 Axes>"
      ]
     },
     "metadata": {},
     "output_type": "display_data"
    }
   ],
   "source": [
    "from matplotlib import pyplot\n",
    "pyplot.plot(history.history['loss'], label='train')\n",
    "pyplot.plot(history.history['val_loss'], label='test')\n",
    "pyplot.legend()\n",
    "pyplot.show()\n",
    "pyplot.savefig('LSTM_combined_base_pool_aug.png')\n",
    "model.save_weights('saved_models/LSTM_combined_base_pool_aug.h5', save_format = 'h5')"
   ]
  },
  {
   "cell_type": "code",
   "execution_count": 26,
   "id": "e2651d08",
   "metadata": {},
   "outputs": [],
   "source": [
    "model_json = model.to_json()\n",
    "with open('saved_models/LSTM_combined_base_pool_aug.json', 'w') as f:\n",
    "    f.write(model_json)"
   ]
  },
  {
   "cell_type": "code",
   "execution_count": 27,
   "id": "1547920a",
   "metadata": {},
   "outputs": [],
   "source": [
    "from keras.models import model_from_json\n",
    "with open('saved_models/LSTM_combined_base_pool_aug.json', 'r') as f:\n",
    "    loaded_json = f.read()\n",
    "    f.close()\n",
    "    loaded_model = model_from_json(loaded_json)\n",
    "loaded_model.load_weights('saved_models/LSTM_combined_base_pool_aug.h5')"
   ]
  },
  {
   "cell_type": "code",
   "execution_count": 28,
   "id": "cf5f2034",
   "metadata": {},
   "outputs": [
    {
     "name": "stdout",
     "output_type": "stream",
     "text": [
      "Model: \"model\"\n",
      "_________________________________________________________________\n",
      " Layer (type)                Output Shape              Param #   \n",
      "=================================================================\n",
      " input_1 (InputLayer)        [(None, 450)]             0         \n",
      "                                                                 \n",
      " embedding (Embedding)       (None, 450, 50)           868900    \n",
      "                                                                 \n",
      " lstm (LSTM)                 (None, 450, 128)          91648     \n",
      "                                                                 \n",
      " global_average_pooling1d (G  (None, 128)              0         \n",
      " lobalAveragePooling1D)                                          \n",
      "                                                                 \n",
      " dropout (Dropout)           (None, 128)               0         \n",
      "                                                                 \n",
      " dense (Dense)               (None, 6)                 774       \n",
      "                                                                 \n",
      "=================================================================\n",
      "Total params: 961,322\n",
      "Trainable params: 92,422\n",
      "Non-trainable params: 868,900\n",
      "_________________________________________________________________\n"
     ]
    }
   ],
   "source": [
    "loaded_model.summary()"
   ]
  },
  {
   "cell_type": "code",
   "execution_count": 29,
   "id": "35f4ae63",
   "metadata": {},
   "outputs": [
    {
     "name": "stdout",
     "output_type": "stream",
     "text": [
      "Validation loss: 53.08%\n"
     ]
    }
   ],
   "source": [
    "loaded_model.compile(optimizer=optimizer_obj, loss=mean_columnwise_root_mean_squared_error)\n",
    "scores = loaded_model.evaluate(x_val_padded, y_val, verbose=0)\n",
    "print(\"Validation loss: %.2f%%\" % (scores*100))"
   ]
  },
  {
   "cell_type": "code",
   "execution_count": 30,
   "id": "d483877d",
   "metadata": {},
   "outputs": [
    {
     "name": "stdout",
     "output_type": "stream",
     "text": [
      "13/13 [==============================] - 6s 224ms/step\n",
      "Predicted results:  [[3.1216974 3.0336199 3.2291765 3.091684  2.966632  3.1292207]\n",
      " [3.3728833 3.2661345 3.416493  3.306389  3.2622604 3.4069102]\n",
      " [3.14      2.9725065 3.2260973 3.0501382 2.9093528 3.103533 ]\n",
      " [2.9468331 2.8562171 3.1116142 2.9706125 2.8381846 2.84458  ]\n",
      " [2.880649  2.7918122 2.9272351 2.8367214 2.8764484 3.0076349]\n",
      " [2.9688778 2.8377337 3.0592403 2.9092572 2.8828423 2.9188378]\n",
      " [2.9594307 2.8971906 3.0426795 2.9816213 2.901914  3.0347722]\n",
      " [3.3518188 3.2894793 3.5620766 3.4323993 3.299649  3.380713 ]\n",
      " [3.2100387 3.1095219 3.2983665 3.207966  3.2011678 3.1872156]\n",
      " [3.403983  3.2751002 3.4997544 3.385719  3.208535  3.3388634]]\n",
      "Actual results:  [[3.  3.  3.  3.  2.5 3. ]\n",
      " [3.  3.  3.5 2.  2.  3. ]\n",
      " [3.5 2.5 2.5 3.  3.5 2.5]\n",
      " [3.5 3.  3.5 4.  3.5 3. ]\n",
      " [3.5 3.  2.5 3.  3.  2.5]\n",
      " [2.5 2.  2.  2.  2.  2. ]\n",
      " [2.5 2.5 3.  3.  2.  2. ]\n",
      " [2.5 2.5 3.  2.5 2.  2.5]\n",
      " [3.  4.  3.5 3.5 3.  3.5]\n",
      " [3.  3.  3.5 3.  2.5 3. ]]\n"
     ]
    }
   ],
   "source": [
    "test_scores = loaded_model.predict(x_val_padded)\n",
    "print(\"Predicted results: \", test_scores[:10])\n",
    "print(\"Actual results: \", y_val[:10])"
   ]
  },
  {
   "cell_type": "code",
   "execution_count": 31,
   "id": "ea71234b",
   "metadata": {},
   "outputs": [
    {
     "data": {
      "text/plain": [
       "(6,)"
      ]
     },
     "execution_count": 31,
     "metadata": {},
     "output_type": "execute_result"
    }
   ],
   "source": [
    "test_scores[1].shape"
   ]
  },
  {
   "cell_type": "code",
   "execution_count": 32,
   "id": "1308de14",
   "metadata": {},
   "outputs": [],
   "source": [
    "results_df = pd.DataFrame(data = list(zip(test_scores, y_val)), columns = ['Pred_scores', 'Actual'])\n",
    "results_df.to_csv(\"LSTM_combined_base_pool_aug.csv\")"
   ]
  },
  {
   "cell_type": "code",
   "execution_count": 33,
   "id": "3f0a33a2",
   "metadata": {},
   "outputs": [],
   "source": [
    "analysis_df = results_df\n",
    "analysis_df['error'] = results_df['Pred_scores'] - results_df['Actual']\n",
    "analysis_df.to_csv(\"LSTM_combined_base_pool_aug.csv\")\n",
    "analysis_df.to_pickle(\"LSTM_combined_base_pool_aug.pkl\")"
   ]
  },
  {
   "cell_type": "markdown",
   "id": "81a2f0bc",
   "metadata": {},
   "source": [
    "### Analysis starts here."
   ]
  },
  {
   "cell_type": "code",
   "execution_count": 34,
   "id": "9c4ab416",
   "metadata": {},
   "outputs": [],
   "source": [
    "analysis_df = pd.read_pickle(\"LSTM_combined_base_pool_aug.pkl\")"
   ]
  },
  {
   "cell_type": "code",
   "execution_count": 35,
   "id": "7e03d5be",
   "metadata": {},
   "outputs": [
    {
     "data": {
      "text/html": [
       "<div>\n",
       "<style scoped>\n",
       "    .dataframe tbody tr th:only-of-type {\n",
       "        vertical-align: middle;\n",
       "    }\n",
       "\n",
       "    .dataframe tbody tr th {\n",
       "        vertical-align: top;\n",
       "    }\n",
       "\n",
       "    .dataframe thead th {\n",
       "        text-align: right;\n",
       "    }\n",
       "</style>\n",
       "<table border=\"1\" class=\"dataframe\">\n",
       "  <thead>\n",
       "    <tr style=\"text-align: right;\">\n",
       "      <th></th>\n",
       "      <th>Pred_scores</th>\n",
       "      <th>Actual</th>\n",
       "      <th>error</th>\n",
       "    </tr>\n",
       "  </thead>\n",
       "  <tbody>\n",
       "    <tr>\n",
       "      <th>0</th>\n",
       "      <td>[3.1216974, 3.0336199, 3.2291765, 3.091684, 2....</td>\n",
       "      <td>[3.0, 3.0, 3.0, 3.0, 2.5, 3.0]</td>\n",
       "      <td>[0.12169742584228516, 0.03361988067626953, 0.2...</td>\n",
       "    </tr>\n",
       "    <tr>\n",
       "      <th>1</th>\n",
       "      <td>[3.3728833, 3.2661345, 3.416493, 3.306389, 3.2...</td>\n",
       "      <td>[3.0, 3.0, 3.5, 2.0, 2.0, 3.0]</td>\n",
       "      <td>[0.37288331985473633, 0.26613450050354004, -0....</td>\n",
       "    </tr>\n",
       "    <tr>\n",
       "      <th>2</th>\n",
       "      <td>[3.14, 2.9725065, 3.2260973, 3.0501382, 2.9093...</td>\n",
       "      <td>[3.5, 2.5, 2.5, 3.0, 3.5, 2.5]</td>\n",
       "      <td>[-0.3599998950958252, 0.4725065231323242, 0.72...</td>\n",
       "    </tr>\n",
       "    <tr>\n",
       "      <th>3</th>\n",
       "      <td>[2.9468331, 2.8562171, 3.1116142, 2.9706125, 2...</td>\n",
       "      <td>[3.5, 3.0, 3.5, 4.0, 3.5, 3.0]</td>\n",
       "      <td>[-0.5531668663024902, -0.1437828540802002, -0....</td>\n",
       "    </tr>\n",
       "    <tr>\n",
       "      <th>4</th>\n",
       "      <td>[2.880649, 2.7918122, 2.9272351, 2.8367214, 2....</td>\n",
       "      <td>[3.5, 3.0, 2.5, 3.0, 3.0, 2.5]</td>\n",
       "      <td>[-0.6193509101867676, -0.20818781852722168, 0....</td>\n",
       "    </tr>\n",
       "  </tbody>\n",
       "</table>\n",
       "</div>"
      ],
      "text/plain": [
       "                                         Pred_scores  \\\n",
       "0  [3.1216974, 3.0336199, 3.2291765, 3.091684, 2....   \n",
       "1  [3.3728833, 3.2661345, 3.416493, 3.306389, 3.2...   \n",
       "2  [3.14, 2.9725065, 3.2260973, 3.0501382, 2.9093...   \n",
       "3  [2.9468331, 2.8562171, 3.1116142, 2.9706125, 2...   \n",
       "4  [2.880649, 2.7918122, 2.9272351, 2.8367214, 2....   \n",
       "\n",
       "                           Actual  \\\n",
       "0  [3.0, 3.0, 3.0, 3.0, 2.5, 3.0]   \n",
       "1  [3.0, 3.0, 3.5, 2.0, 2.0, 3.0]   \n",
       "2  [3.5, 2.5, 2.5, 3.0, 3.5, 2.5]   \n",
       "3  [3.5, 3.0, 3.5, 4.0, 3.5, 3.0]   \n",
       "4  [3.5, 3.0, 2.5, 3.0, 3.0, 2.5]   \n",
       "\n",
       "                                               error  \n",
       "0  [0.12169742584228516, 0.03361988067626953, 0.2...  \n",
       "1  [0.37288331985473633, 0.26613450050354004, -0....  \n",
       "2  [-0.3599998950958252, 0.4725065231323242, 0.72...  \n",
       "3  [-0.5531668663024902, -0.1437828540802002, -0....  \n",
       "4  [-0.6193509101867676, -0.20818781852722168, 0....  "
      ]
     },
     "execution_count": 35,
     "metadata": {},
     "output_type": "execute_result"
    }
   ],
   "source": [
    "analysis_df.head()"
   ]
  },
  {
   "cell_type": "code",
   "execution_count": 36,
   "id": "fc8dfe5d",
   "metadata": {},
   "outputs": [],
   "source": [
    "pred_lst = analysis_df.Pred_scores\n",
    "actual_lst = analysis_df.Actual\n",
    "#cohesion \tsyntax \tvocabulary \tphraseology \tgrammar \tconventions"
   ]
  },
  {
   "cell_type": "code",
   "execution_count": 37,
   "id": "fd6c14d0",
   "metadata": {},
   "outputs": [],
   "source": [
    "# flat is faster than item\n",
    "cohesion_pred_lst = [x.flat[0] for x in pred_lst]\n",
    "cohesion_act_lst = [x.flat[0] for x in actual_lst]\n",
    "\n",
    "syntax_pred_lst = [x.flat[1] for x in pred_lst]\n",
    "syntax_act_lst = [x.flat[1] for x in actual_lst]\n",
    "\n",
    "vocabulary_pred_lst = [x.flat[2] for x in pred_lst]\n",
    "vocabulary_act_lst = [x.flat[2] for x in actual_lst]\n",
    "\n",
    "phraseology_pred_lst = [x.flat[3] for x in pred_lst]\n",
    "phraseology_act_lst = [x.flat[3] for x in actual_lst]\n",
    "\n",
    "grammar_pred_lst = [x.flat[4] for x in pred_lst]\n",
    "grammar_act_lst = [x.flat[4] for x in actual_lst]\n",
    "\n",
    "conventions_pred_lst = [x.flat[5] for x in pred_lst]\n",
    "conventions_act_lst = [x.flat[5] for x in actual_lst]"
   ]
  },
  {
   "cell_type": "code",
   "execution_count": 73,
   "id": "f9805e0b",
   "metadata": {},
   "outputs": [],
   "source": [
    "#cohesion_pred = np.histogram(analysis_df['Pred_scores'][0][0])\n",
    "#plt.hist(cohesion_pred)\n",
    "# Follows a similar distribution to the actual scores."
   ]
  },
  {
   "cell_type": "code",
   "execution_count": 72,
   "id": "6e4cc930",
   "metadata": {
    "scrolled": true
   },
   "outputs": [],
   "source": [
    "#cohesion_actual = np.histogram(analysis_df['Actual'][0][0])\n",
    "#plt.hist(cohesion_actual)"
   ]
  },
  {
   "cell_type": "code",
   "execution_count": 7,
   "id": "de18cd8f",
   "metadata": {},
   "outputs": [],
   "source": [
    "#pip install statsmodels"
   ]
  },
  {
   "cell_type": "code",
   "execution_count": 39,
   "id": "0ab1d0af",
   "metadata": {},
   "outputs": [],
   "source": [
    "#import statsmodels.api as sm\n",
    "#import pylab as py\n",
    "#sm.qqplot(data = analysis_df['Actual'], line ='45')\n",
    "#py.show()"
   ]
  },
  {
   "cell_type": "code",
   "execution_count": 40,
   "id": "d7cef7de",
   "metadata": {},
   "outputs": [],
   "source": [
    "#sm.qqplot(data = analysis_df['Pred_scores'], line ='45')\n",
    "#py.show()"
   ]
  },
  {
   "cell_type": "code",
   "execution_count": 69,
   "id": "dc7f4de3",
   "metadata": {},
   "outputs": [],
   "source": [
    "# Predicted scores are not normally distributed. Model is learning something \n",
    "# other than the normal distribution. Good news!"
   ]
  },
  {
   "cell_type": "code",
   "execution_count": 43,
   "id": "dbce0d0a",
   "metadata": {},
   "outputs": [
    {
     "name": "stdout",
     "output_type": "stream",
     "text": [
      "392\n"
     ]
    }
   ],
   "source": [
    "iterations = x_val_padded.shape[0]\n",
    "print(iterations)\n",
    "# Should be equal to 196 for non-augmented."
   ]
  },
  {
   "cell_type": "code",
   "execution_count": 44,
   "id": "961e1df0",
   "metadata": {},
   "outputs": [],
   "source": [
    "nonzero_count = []\n",
    "for num in range(iterations):\n",
    "    nonzero_count.append(np.count_nonzero(x_val_padded[num]))"
   ]
  },
  {
   "cell_type": "code",
   "execution_count": 45,
   "id": "3e29e2e6",
   "metadata": {},
   "outputs": [],
   "source": [
    "proof_df = analysis_df\n",
    "proof_df['nonzero'] = nonzero_count"
   ]
  },
  {
   "cell_type": "code",
   "execution_count": 46,
   "id": "8581744b",
   "metadata": {},
   "outputs": [
    {
     "name": "stdout",
     "output_type": "stream",
     "text": [
      "[array([3.1216974, 3.0336199, 3.2291765, 3.091684 , 2.966632 , 3.1292207],\n",
      "       dtype=float32)\n",
      " array([3.3728833, 3.2661345, 3.416493 , 3.306389 , 3.2622604, 3.4069102],\n",
      "       dtype=float32)\n",
      " array([3.14     , 2.9725065, 3.2260973, 3.0501382, 2.9093528, 3.103533 ],\n",
      "       dtype=float32)\n",
      " array([2.9468331, 2.8562171, 3.1116142, 2.9706125, 2.8381846, 2.84458  ],\n",
      "       dtype=float32)\n",
      " array([2.880649 , 2.7918122, 2.9272351, 2.8367214, 2.8764484, 3.0076349],\n",
      "       dtype=float32)                                                     ]\n"
     ]
    }
   ],
   "source": [
    "pred_scores = np.array((pred_lst))\n",
    "act_scores = np.array((actual_lst))\n",
    "print(pred_scores[:5])"
   ]
  },
  {
   "cell_type": "code",
   "execution_count": 47,
   "id": "575ce4de",
   "metadata": {},
   "outputs": [
    {
     "data": {
      "text/plain": [
       "<AxesSubplot:>"
      ]
     },
     "execution_count": 47,
     "metadata": {},
     "output_type": "execute_result"
    },
    {
     "data": {
      "image/png": "[encoded data removed]",
      "text/plain": [
       "<Figure size 640x480 with 2 Axes>"
      ]
     },
     "metadata": {},
     "output_type": "display_data"
    }
   ],
   "source": [
    "analysis_df['nonzero'] = nonzero_count\n",
    "\n",
    "pred_scores_mean = [x.mean() for x in pred_scores]\n",
    "pred_scores_mean[:5]\n",
    "\n",
    "corr_df = pd.DataFrame({'pred_scores' : pred_scores_mean, 'nonzero' : nonzero_count})\n",
    "\n",
    "import seaborn as sns\n",
    "sns.heatmap(corr_df.corr(), annot = True, cmap = \"crest\")"
   ]
  },
  {
   "cell_type": "markdown",
   "id": "b1b4f9fb",
   "metadata": {},
   "source": [
    "### The base pooled LSTM model does observe a somewhat high correlation (0.41) between non-zero count and predicted scores.\n",
    "### Augmented further strengthens that correlation."
   ]
  },
  {
   "cell_type": "markdown",
   "id": "fe16e772",
   "metadata": {},
   "source": [
    "#### Actual correlation:"
   ]
  },
  {
   "cell_type": "code",
   "execution_count": 48,
   "id": "261ce9b9",
   "metadata": {},
   "outputs": [
    {
     "data": {
      "text/plain": [
       "<AxesSubplot:>"
      ]
     },
     "execution_count": 48,
     "metadata": {},
     "output_type": "execute_result"
    },
    {
     "data": {
      "image/png": "[encoded data removed]",
      "text/plain": [
       "<Figure size 640x480 with 2 Axes>"
      ]
     },
     "metadata": {},
     "output_type": "display_data"
    }
   ],
   "source": [
    "act_scores_mean = [x.mean() for x in act_scores]\n",
    "act_corr_df = pd.DataFrame({'act_scores' : act_scores_mean, 'nonzero' : nonzero_count})\n",
    "sns.heatmap(act_corr_df.corr(), annot = True, cmap = \"crest\")"
   ]
  },
  {
   "cell_type": "markdown",
   "id": "1a7b3023",
   "metadata": {},
   "source": [
    "#### This model maps the correlation a bit stronger than it really is.\n",
    "### Also, the input data has been corrupted by augmentation because this correlation dropped from 0.31 to 0.18."
   ]
  },
  {
   "cell_type": "markdown",
   "id": "e0c14446",
   "metadata": {},
   "source": [
    "### Plotting the mean of the actual and mean of the predicted scores."
   ]
  },
  {
   "cell_type": "code",
   "execution_count": 49,
   "id": "959df584",
   "metadata": {},
   "outputs": [
    {
     "data": {
      "text/plain": [
       "array([[<AxesSubplot:title={'center':'act_scores'}>]], dtype=object)"
      ]
     },
     "execution_count": 49,
     "metadata": {},
     "output_type": "execute_result"
    },
    {
     "data": {
      "image/png": "[encoded data removed]",
      "text/plain": [
       "<Figure size 640x480 with 1 Axes>"
      ]
     },
     "metadata": {},
     "output_type": "display_data"
    }
   ],
   "source": [
    "act_corr_df.hist(column = 'act_scores', bins = 20)"
   ]
  },
  {
   "cell_type": "code",
   "execution_count": 50,
   "id": "a4a7a429",
   "metadata": {},
   "outputs": [
    {
     "data": {
      "text/plain": [
       "array([[<AxesSubplot:title={'center':'pred_scores'}>]], dtype=object)"
      ]
     },
     "execution_count": 50,
     "metadata": {},
     "output_type": "execute_result"
    },
    {
     "data": {
      "image/png": "[encoded data removed]",
      "text/plain": [
       "<Figure size 640x480 with 1 Axes>"
      ]
     },
     "metadata": {},
     "output_type": "display_data"
    }
   ],
   "source": [
    "corr_df.hist(column = 'pred_scores', bins = 20, range = [1.5, 4.5])"
   ]
  },
  {
   "cell_type": "markdown",
   "id": "9c539990",
   "metadata": {},
   "source": [
    "### Our model's output seem to not be as evenly distributed. Augmentation makes this slightly healthier though."
   ]
  },
  {
   "cell_type": "code",
   "execution_count": 51,
   "id": "6740ff9d",
   "metadata": {},
   "outputs": [
    {
     "name": "stdout",
     "output_type": "stream",
     "text": [
      "Pred median :  3.1089468\n",
      "Actual median :  3.0\n"
     ]
    }
   ],
   "source": [
    "pred_median_lst = [np.median(x) for x in pred_lst]\n",
    "pred_med = np.median(pred_median_lst)\n",
    "\n",
    "act_median_lst = [np.median(x) for x in actual_lst]\n",
    "act_med = np.median(act_median_lst)\n",
    "\n",
    "print(\"Pred median : \", pred_med)\n",
    "print(\"Actual median : \", act_med)"
   ]
  },
  {
   "cell_type": "code",
   "execution_count": 52,
   "id": "7b24a9ec",
   "metadata": {},
   "outputs": [
    {
     "name": "stdout",
     "output_type": "stream",
     "text": [
      "Pred mean variance :  0.008753107\n",
      "Actual mean variance :  0.11784297052154194\n"
     ]
    }
   ],
   "source": [
    "pred_var_lst = [np.var(x) for x in pred_lst]\n",
    "act_var_lst = [np.var(x) for x in actual_lst]\n",
    "\n",
    "#print(pred_var_lst)\n",
    "\n",
    "pred_var = np.mean(pred_var_lst)\n",
    "act_var = np.mean(act_var_lst)\n",
    "\n",
    "print(\"Pred mean variance : \", pred_var)\n",
    "print(\"Actual mean variance : \", act_var)"
   ]
  },
  {
   "cell_type": "markdown",
   "id": "2fc2843f",
   "metadata": {},
   "source": [
    "### Variance of the model's results is too low, as expected from looking at the graph."
   ]
  },
  {
   "cell_type": "markdown",
   "id": "c4d7b1ef",
   "metadata": {},
   "source": [
    "### Does the model's predicted score roughly follow the actual scores?"
   ]
  },
  {
   "cell_type": "code",
   "execution_count": 53,
   "id": "9410c955",
   "metadata": {},
   "outputs": [],
   "source": [
    "corr_df_cohesion = pd.DataFrame({'pred_score' : cohesion_pred_lst, 'act_scores' : cohesion_act_lst})\n",
    "corr_df_syntax = pd.DataFrame({'pred_score' : syntax_pred_lst, 'act_scores' : syntax_act_lst})\n",
    "corr_df_vocabulary = pd.DataFrame({'pred_score' : vocabulary_pred_lst, 'act_scores' : vocabulary_act_lst})\n",
    "corr_df_phraseology = pd.DataFrame({'pred_score' : phraseology_pred_lst, 'act_scores' : phraseology_act_lst})\n",
    "corr_df_grammar = pd.DataFrame({'pred_score' : grammar_pred_lst, 'act_scores' : grammar_act_lst})\n",
    "corr_df_conventions = pd.DataFrame({'pred_score' : conventions_pred_lst, 'act_scores' : conventions_act_lst})"
   ]
  },
  {
   "cell_type": "code",
   "execution_count": 54,
   "id": "22f1f80c",
   "metadata": {},
   "outputs": [
    {
     "data": {
      "text/plain": [
       "Text(0.5, 1.0, 'Cohesion correlation')"
      ]
     },
     "execution_count": 54,
     "metadata": {},
     "output_type": "execute_result"
    },
    {
     "data": {
      "image/png": "[encoded data removed]",
      "text/plain": [
       "<Figure size 640x480 with 2 Axes>"
      ]
     },
     "metadata": {},
     "output_type": "display_data"
    }
   ],
   "source": [
    "import seaborn as sns\n",
    "sns.heatmap(corr_df_cohesion.corr(), annot = True, cmap = \"crest\").set_title(\"Cohesion correlation\")"
   ]
  },
  {
   "cell_type": "code",
   "execution_count": 55,
   "id": "19bfeece",
   "metadata": {},
   "outputs": [
    {
     "data": {
      "text/plain": [
       "Text(0.5, 1.0, 'Syntax correlation')"
      ]
     },
     "execution_count": 55,
     "metadata": {},
     "output_type": "execute_result"
    },
    {
     "data": {
      "image/png": "[encoded data removed]",
      "text/plain": [
       "<Figure size 640x480 with 2 Axes>"
      ]
     },
     "metadata": {},
     "output_type": "display_data"
    }
   ],
   "source": [
    "sns.heatmap(corr_df_syntax.corr(), annot = True, cmap = \"crest\").set_title(\"Syntax correlation\")"
   ]
  },
  {
   "cell_type": "code",
   "execution_count": 56,
   "id": "0aee0372",
   "metadata": {},
   "outputs": [
    {
     "data": {
      "text/plain": [
       "Text(0.5, 1.0, 'Vocabulary correlation')"
      ]
     },
     "execution_count": 56,
     "metadata": {},
     "output_type": "execute_result"
    },
    {
     "data": {
      "image/png": "[encoded data removed]",
      "text/plain": [
       "<Figure size 640x480 with 2 Axes>"
      ]
     },
     "metadata": {},
     "output_type": "display_data"
    }
   ],
   "source": [
    "sns.heatmap(corr_df_vocabulary.corr(), annot = True, cmap = \"crest\").set_title(\"Vocabulary correlation\")"
   ]
  },
  {
   "cell_type": "code",
   "execution_count": 57,
   "id": "dc73df5d",
   "metadata": {},
   "outputs": [
    {
     "data": {
      "text/plain": [
       "Text(0.5, 1.0, 'Phraseology correlation')"
      ]
     },
     "execution_count": 57,
     "metadata": {},
     "output_type": "execute_result"
    },
    {
     "data": {
      "image/png": "[encoded data removed]",
      "text/plain": [
       "<Figure size 640x480 with 2 Axes>"
      ]
     },
     "metadata": {},
     "output_type": "display_data"
    }
   ],
   "source": [
    "sns.heatmap(corr_df_phraseology.corr(), annot = True, cmap = \"crest\").set_title(\"Phraseology correlation\")"
   ]
  },
  {
   "cell_type": "code",
   "execution_count": 58,
   "id": "b08e298d",
   "metadata": {},
   "outputs": [
    {
     "data": {
      "text/plain": [
       "Text(0.5, 1.0, 'Grammar correlation')"
      ]
     },
     "execution_count": 58,
     "metadata": {},
     "output_type": "execute_result"
    },
    {
     "data": {
      "image/png": "[encoded data removed]",
      "text/plain": [
       "<Figure size 640x480 with 2 Axes>"
      ]
     },
     "metadata": {},
     "output_type": "display_data"
    }
   ],
   "source": [
    "sns.heatmap(corr_df_grammar.corr(), annot = True, cmap = \"crest\").set_title(\"Grammar correlation\")"
   ]
  },
  {
   "cell_type": "code",
   "execution_count": 59,
   "id": "af5b29ed",
   "metadata": {},
   "outputs": [
    {
     "data": {
      "text/plain": [
       "Text(0.5, 1.0, 'Conventions correlation')"
      ]
     },
     "execution_count": 59,
     "metadata": {},
     "output_type": "execute_result"
    },
    {
     "data": {
      "image/png": "[encoded data removed]",
      "text/plain": [
       "<Figure size 640x480 with 2 Axes>"
      ]
     },
     "metadata": {},
     "output_type": "display_data"
    }
   ],
   "source": [
    "sns.heatmap(corr_df_conventions.corr(), annot = True, cmap = \"crest\").set_title(\"Conventions correlation\")"
   ]
  },
  {
   "cell_type": "markdown",
   "id": "f7ca2884",
   "metadata": {},
   "source": [
    "### This model also seems to perform best with conventions and does not perform too well in grammar, phraseology, vocabulary and convention.\n",
    "\n",
    "### The augmentation has made all the correlations stronger (as expected from the model fitting essentially the same data twice), but it still scores the same on the competition dataset. Further augmentation would likely promote overfitting."
   ]
  },
  {
   "cell_type": "code",
   "execution_count": null,
   "id": "1fdcace3",
   "metadata": {},
   "outputs": [],
   "source": [
    "## Well, at least the correlation went down in pre-padding.\n",
    "# Pre-padding, no masking : 43.44% loss!\n",
    "# 0.49 correlation\n",
    "\n",
    "# Pre-padding, masking: 40.99% loss!\n",
    "# 0.59 correlation - some reason masking makes the length correlation stronger"
   ]
  },
  {
   "cell_type": "code",
   "execution_count": null,
   "id": "521ac85a",
   "metadata": {},
   "outputs": [],
   "source": [
    "## This time around the correlation changed to 0.65."
   ]
  }
 ],
 "metadata": {
  "kernelspec": {
   "display_name": "Python 3 (ipykernel)",
   "language": "python",
   "name": "python3"
  },
  "language_info": {
   "codemirror_mode": {
    "name": "ipython",
    "version": 3
   },
   "file_extension": ".py",
   "mimetype": "text/x-python",
   "name": "python",
   "nbconvert_exporter": "python",
   "pygments_lexer": "ipython3",
   "version": "3.9.13"
  }
 },
 "nbformat": 4,
 "nbformat_minor": 5
}
